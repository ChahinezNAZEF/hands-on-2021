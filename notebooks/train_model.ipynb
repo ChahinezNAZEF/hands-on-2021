{
 "cells": [
  {
   "cell_type": "markdown",
   "metadata": {},
   "source": [
    "# Reading image files"
   ]
  },
  {
   "cell_type": "code",
   "execution_count": 25,
   "metadata": {},
   "outputs": [],
   "source": [
    "import yaml\n",
    "import glob\n",
    "import os\n",
    "import pathlib\n",
    "\n",
    "from matplotlib.pyplot import figure\n",
    "import matplotlib.pyplot as plt\n",
    "import numpy as np\n",
    "import pandas as pd\n",
    "\n",
    "import tensorflow as tf\n",
    "from PIL import Image"
   ]
  },
  {
   "cell_type": "markdown",
   "metadata": {},
   "source": [
    "# Configuration Yaml"
   ]
  },
  {
   "cell_type": "code",
   "execution_count": 70,
   "metadata": {},
   "outputs": [
    {
     "name": "stdout",
     "output_type": "stream",
     "text": [
      "{'data1': 'C:/Users/chahinez/Documents/hands-on-2021/GTSRB/GTSRB/Final_Training/Images/*/*.csv', 'model_path': 'C:/Users/chahinez/Documents/hands-on-2021/models/traffic_signs', 'test_size': 0.2, 'random_state': 42, 'batch_size': 32, 'epochs': 15, 'N': 1000, 'optimizer': 'adam', 'activation': 'relu', 'activation_L': 'softmax', 'Dropout_rate1': 0.25, 'Dropout_rate2': 0.25, 'Dropout_rate3': 0.5, 'metrics': 'accuracy', 'loss': 'categorical_crossentropy'}\n"
     ]
    }
   ],
   "source": [
    "#read yaml file\n",
    "with open('C:/Users/chahinez/Documents/hands-on-2021/notebooks/train_model.yaml') as file:\n",
    "    yaml_data= yaml.safe_load(file)\n",
    "print(yaml_data)"
   ]
  },
  {
   "cell_type": "code",
   "execution_count": 71,
   "metadata": {},
   "outputs": [],
   "source": [
    "# Function to load yaml configuration file\n",
    "def load_config(parameters):\n",
    "    with open(os.path.join('C:/Users/chahinez/Documents/hands-on-2021/notebooks/train_model.yaml', parameters)) as file:\n",
    "        config = yaml.safe_load(file)\n",
    "\n",
    "    return config"
   ]
  },
  {
   "cell_type": "code",
   "execution_count": 72,
   "metadata": {},
   "outputs": [],
   "source": [
    "config = load_config('C:/Users/chahinez/Documents/hands-on-2021/notebooks/train_model.yaml')"
   ]
  },
  {
   "cell_type": "markdown",
   "metadata": {},
   "source": [
    "# Exctract images"
   ]
  },
  {
   "cell_type": "code",
   "execution_count": 29,
   "metadata": {},
   "outputs": [
    {
     "name": "stdout",
     "output_type": "stream",
     "text": [
      "C:\\Users\\chahinez\n"
     ]
    }
   ],
   "source": [
    "\n",
    "cd"
   ]
  },
  {
   "cell_type": "code",
   "execution_count": 30,
   "metadata": {},
   "outputs": [],
   "source": [
    "### Training 1 fois suffit"
   ]
  },
  {
   "cell_type": "code",
   "execution_count": 5,
   "metadata": {},
   "outputs": [
    {
     "data": {
      "text/plain": [
       "'C:\\\\Users\\\\chahinez\\\\Documents\\\\hands-on-2021\\\\notebooks'"
      ]
     },
     "execution_count": 5,
     "metadata": {},
     "output_type": "execute_result"
    }
   ],
   "source": [
    "pwd()"
   ]
  },
  {
   "cell_type": "code",
   "execution_count": 68,
   "metadata": {},
   "outputs": [
    {
     "name": "stderr",
     "output_type": "stream",
     "text": [
      "  % Total    % Received % Xferd  Average Speed   Time    Time     Time  Current\n",
      "                                 Dload  Upload   Total   Spent    Left  Speed\n",
      "\n",
      "  0     0    0     0    0     0      0      0 --:--:-- --:--:-- --:--:--     0\n",
      "  0     0    0     0    0     0      0      0 --:--:-- --:--:-- --:--:--     0\n",
      "  0     0    0     0    0     0      0      0 --:--:--  0:00:01 --:--:--     0curl: (6) Could not resolve host: –O\n",
      "  % Total    % Received % Xferd  Average Speed   Time    Time     Time  Current\n",
      "                                 Dload  Upload   Total   Spent    Left  Speed\n",
      "\n",
      "  0     0    0     0    0     0      0      0 --:--:-- --:--:-- --:--:--     0\n",
      "  0     0    0     0    0     0      0      0 --:--:-- --:--:-- --:--:--     0\n",
      "  1  263M    1 3712k    0     0  3098k      0  0:01:27  0:00:01  0:01:26 3098k\n",
      "  3  263M    3 8304k    0     0  3777k      0  0:01:11  0:00:02  0:01:09 3779k\n",
      "  4  263M    4 12.5M    0     0  4017k      0  0:01:07  0:00:03  0:01:04 4018k\n",
      "  6  263M    6 16.9M    0     0  4127k      0  0:01:05  0:00:04  0:01:01 4127k\n",
      "  8  263M    8 21.7M    0     0  4278k      0  0:01:03  0:00:05  0:00:58 4448k\n",
      " 10  263M   10 26.6M    0     0  4149k      0  0:01:05  0:00:06  0:00:59 4384k\n",
      " 11  263M   11 30.9M    0     0  4398k      0  0:01:01  0:00:07  0:00:54 4672k\n",
      " 13  263M   13 35.5M    0     0  4444k      0  0:01:00  0:00:08  0:00:52 4717k\n",
      " 15  263M   15 40.5M    0     0  4506k      0  0:00:59  0:00:09  0:00:50 4824k\n",
      " 17  263M   17 45.3M    0     0  4554k      0  0:00:59  0:00:10  0:00:49 4841k\n",
      " 18  263M   18 49.5M    0     0  4521k      0  0:00:59  0:00:11  0:00:48 5049k\n",
      " 20  263M   20 54.2M    0     0  4554k      0  0:00:59  0:00:12  0:00:47 4779k\n",
      " 22  263M   22 58.2M    0     0  4516k      0  0:00:59  0:00:13  0:00:46 4634k\n",
      " 23  263M   23 60.9M    0     0  4384k      0  0:01:01  0:00:14  0:00:47 4162k\n",
      " 24  263M   24 65.8M    0     0  4433k      0  0:01:00  0:00:15  0:00:45 4186k\n",
      " 26  263M   26 71.1M    0     0  4495k      0  0:01:00  0:00:16  0:00:44 4436k\n",
      " 28  263M   28 76.2M    0     0  4538k      0  0:00:59  0:00:17  0:00:42 4498k\n",
      " 30  263M   30 80.9M    0     0  4553k      0  0:00:59  0:00:18  0:00:41 4652k\n",
      " 32  263M   32 85.7M    0     0  4576k      0  0:00:58  0:00:19  0:00:39 5123k\n",
      " 34  263M   34 90.1M    0     0  4570k      0  0:00:59  0:00:20  0:00:39 4987k\n",
      " 36  263M   36 95.3M    0     0  4607k      0  0:00:58  0:00:21  0:00:37 4968k\n",
      " 37  263M   37  100M    0     0  4616k      0  0:00:58  0:00:22  0:00:36 4885k\n",
      " 39  263M   39  105M    0     0  4634k      0  0:00:58  0:00:23  0:00:35 4928k\n",
      " 41  263M   41  109M    0     0  4648k      0  0:00:58  0:00:24  0:00:34 4927k\n",
      " 43  263M   43  115M    0     0  4674k      0  0:00:57  0:00:25  0:00:32 5097k\n",
      " 45  263M   45  120M    0     0  4697k      0  0:00:57  0:00:26  0:00:31 5080k\n",
      " 47  263M   47  125M    0     0  4710k      0  0:00:57  0:00:27  0:00:30 5126k\n",
      " 49  263M   49  129M    0     0  4719k      0  0:00:57  0:00:28  0:00:29 5113k\n",
      " 51  263M   51  134M    0     0  4721k      0  0:00:57  0:00:29  0:00:28 5071k\n",
      " 52  263M   52  139M    0     0  4734k      0  0:00:56  0:00:30  0:00:26 5034k\n",
      " 54  263M   54  144M    0     0  4736k      0  0:00:56  0:00:31  0:00:25 4942k\n",
      " 56  263M   56  149M    0     0  4752k      0  0:00:56  0:00:32  0:00:24 4983k\n",
      " 58  263M   58  154M    0     0  4753k      0  0:00:56  0:00:33  0:00:23 4944k\n",
      " 60  263M   60  158M    0     0  4752k      0  0:00:56  0:00:34  0:00:22 4932k\n",
      " 61  263M   61  162M    0     0  4739k      0  0:00:56  0:00:35  0:00:21 4768k\n",
      " 63  263M   63  167M    0     0  4741k      0  0:00:56  0:00:36  0:00:20 4772k\n",
      " 65  263M   65  172M    0     0  4746k      0  0:00:56  0:00:37  0:00:19 4704k\n",
      " 67  263M   67  177M    0     0  4756k      0  0:00:56  0:00:38  0:00:18 4781k\n",
      " 68  263M   68  179M    0     0  4693k      0  0:00:57  0:00:39  0:00:18 4293k\n",
      " 69  263M   69  184M    0     0  4688k      0  0:00:57  0:00:40  0:00:17 4328k\n",
      " 71  263M   71  187M    0     0  4660k      0  0:00:57  0:00:41  0:00:16 4073k\n",
      " 71  263M   71  189M    0     0  4589k      0  0:00:58  0:00:42  0:00:16 3417k\n",
      " 73  263M   73  193M    0     0  4587k      0  0:00:58  0:00:43  0:00:15 3295k\n",
      " 75  263M   75  198M    0     0  4589k      0  0:00:58  0:00:44  0:00:14 3775k\n",
      " 75  263M   75  199M    0     0  4529k      0  0:00:59  0:00:45  0:00:14 3254k\n",
      " 77  263M   77  204M    0     0  4538k      0  0:00:59  0:00:46  0:00:13 3530k\n",
      " 79  263M   79  209M    0     0  4550k      0  0:00:59  0:00:47  0:00:12 4227k\n",
      " 81  263M   81  214M    0     0  4557k      0  0:00:59  0:00:48  0:00:11 4299k\n",
      " 83  263M   83  218M    0     0  4557k      0  0:00:59  0:00:49  0:00:10 4268k\n",
      " 84  263M   84  223M    0     0  4560k      0  0:00:59  0:00:50  0:00:09 4844k\n",
      " 86  263M   86  228M    0     0  4562k      0  0:00:59  0:00:51  0:00:08 4785k\n",
      " 88  263M   88  232M    0     0  4567k      0  0:00:59  0:00:52  0:00:07 4728k\n",
      " 89  263M   89  236M    0     0  4555k      0  0:00:59  0:00:53  0:00:06 4530k\n",
      " 91  263M   91  241M    0     0  4566k      0  0:00:59  0:00:54  0:00:05 4656k\n",
      " 93  263M   93  246M    0     0  4564k      0  0:00:59  0:00:55  0:00:04 4599k\n",
      " 94  263M   94  250M    0     0  4557k      0  0:00:59  0:00:56  0:00:03 4505k\n",
      " 96  263M   96  254M    0     0  4555k      0  0:00:59  0:00:57  0:00:02 4423k\n",
      " 98  263M   98  258M    0     0  4547k      0  0:00:59  0:00:58  0:00:01 4462k\n",
      " 99  263M   99  262M    0     0  4547k      0  0:00:59  0:00:59 --:--:-- 4346k\n",
      "100  263M  100  263M    0     0  4546k      0  0:00:59  0:00:59 --:--:-- 4302k\n"
     ]
    }
   ],
   "source": [
    "! curl –O https://sid.erda.dk/public/archives/daaeac0d7ce1152aea9b61d9f1e19370/GTSRB_Final_Training_Images.zip >  Documents/hands-on-2021/GTSRB/GTSRB_Final_Training_Images.zip\n"
   ]
  },
  {
   "cell_type": "code",
   "execution_count": 69,
   "metadata": {},
   "outputs": [],
   "source": [
    "import zipfile\n",
    "with zipfile.ZipFile(\"Documents/hands-on-2021/GTSRB/GTSRB_Final_Training_Images.zip\",\"r\") as zip_ref:\n",
    "    zip_ref.extractall(\"Documents/hands-on-2021/GTSRB\")"
   ]
  },
  {
   "cell_type": "code",
   "execution_count": 70,
   "metadata": {},
   "outputs": [],
   "source": [
    "### Test final image"
   ]
  },
  {
   "cell_type": "code",
   "execution_count": 70,
   "metadata": {},
   "outputs": [
    {
     "name": "stderr",
     "output_type": "stream",
     "text": [
      "  % Total    % Received % Xferd  Average Speed   Time    Time     Time  Current\n",
      "                                 Dload  Upload   Total   Spent    Left  Speed\n",
      "\n",
      "  0     0    0     0    0     0      0      0 --:--:-- --:--:-- --:--:--     0\n",
      "  0     0    0     0    0     0      0      0 --:--:-- --:--:-- --:--:--     0\n",
      "  0     0    0     0    0     0      0      0 --:--:--  0:00:01 --:--:--     0curl: (6) Could not resolve host: –O\n",
      "  % Total    % Received % Xferd  Average Speed   Time    Time     Time  Current\n",
      "                                 Dload  Upload   Total   Spent    Left  Speed\n",
      "\n",
      "  0     0    0     0    0     0      0      0 --:--:-- --:--:-- --:--:--     0\n",
      "  0     0    0     0    0     0      0      0 --:--:-- --:--:-- --:--:--     0\n",
      "  4 84.8M    4 3616k    0     0  2892k      0  0:00:30  0:00:01  0:00:29 2895k\n",
      "  8 84.8M    8 7664k    0     0  3406k      0  0:00:25  0:00:02  0:00:23 3406k\n",
      " 13 84.8M   13 11.3M    0     0  3536k      0  0:00:24  0:00:03  0:00:21 3536k\n",
      " 17 84.8M   17 14.9M    0     0  3604k      0  0:00:24  0:00:04  0:00:20 3604k\n",
      " 21 84.8M   21 18.2M    0     0  3566k      0  0:00:24  0:00:05  0:00:19 3745k\n",
      " 25 84.8M   25 21.7M    0     0  3561k      0  0:00:24  0:00:06  0:00:18 3728k\n",
      " 29 84.8M   29 25.1M    0     0  3550k      0  0:00:24  0:00:07  0:00:17 3616k\n",
      " 31 84.8M   31 26.7M    0     0  3320k      0  0:00:26  0:00:08  0:00:18 3178k\n",
      " 35 84.8M   35 29.7M    0     0  3294k      0  0:00:26  0:00:09  0:00:17 3031k\n",
      " 38 84.8M   38 32.6M    0     0  3259k      0  0:00:26  0:00:10  0:00:16 2936k\n",
      " 42 84.8M   42 35.8M    0     0  3259k      0  0:00:26  0:00:11  0:00:15 2882k\n",
      " 45 84.8M   45 38.3M    0     0  3205k      0  0:00:27  0:00:12  0:00:15 2706k\n",
      " 48 84.8M   48 41.2M    0     0  3184k      0  0:00:27  0:00:13  0:00:14 2959k\n",
      " 52 84.8M   52 44.3M    0     0  3184k      0  0:00:27  0:00:14  0:00:13 2980k\n",
      " 56 84.8M   56 47.8M    0     0  3212k      0  0:00:27  0:00:15  0:00:12 3116k\n",
      " 60 84.8M   60 51.7M    0     0  3257k      0  0:00:26  0:00:16  0:00:10 3253k\n",
      " 64 84.8M   64 54.8M    0     0  3253k      0  0:00:26  0:00:17  0:00:09 3370k\n",
      " 68 84.8M   68 58.0M    0     0  3253k      0  0:00:26  0:00:18  0:00:08 3439k\n",
      " 69 84.8M   69 59.2M    0     0  3150k      0  0:00:27  0:00:19  0:00:08 3054k\n",
      " 72 84.8M   72 61.2M    0     0  3094k      0  0:00:28  0:00:20  0:00:08 2738k\n",
      " 75 84.8M   75 63.9M    0     0  3079k      0  0:00:28  0:00:21  0:00:07 2500k\n",
      " 79 84.8M   79 67.1M    0     0  3090k      0  0:00:28  0:00:22  0:00:06 2528k\n",
      " 82 84.8M   82 70.3M    0     0  3098k      0  0:00:28  0:00:23  0:00:05 2528k\n",
      " 85 84.8M   85 72.7M    0     0  3073k      0  0:00:28  0:00:24  0:00:04 2774k\n",
      " 88 84.8M   88 75.3M    0     0  3054k      0  0:00:28  0:00:25  0:00:03 2890k\n",
      " 92 84.8M   92 78.1M    0     0  3046k      0  0:00:28  0:00:26  0:00:02 2905k\n",
      " 95 84.8M   95 81.0M    0     0  3043k      0  0:00:28  0:00:27  0:00:01 2835k\n",
      " 99 84.8M   99 84.1M    0     0  3049k      0  0:00:28  0:00:28 --:--:-- 2822k\n",
      "100 84.8M  100 84.8M    0     0  3038k      0  0:00:28  0:00:28 --:--:-- 2841k\n"
     ]
    }
   ],
   "source": [
    "! curl –O https://sid.erda.dk/public/archives/daaeac0d7ce1152aea9b61d9f1e19370/GTSRB_Final_Test_Images.zip>  Documents/hands-on-2021/GTSRB/GTSRB_Final_Test_Images.zip"
   ]
  },
  {
   "cell_type": "code",
   "execution_count": 71,
   "metadata": {},
   "outputs": [],
   "source": [
    "import zipfile\n",
    "with zipfile.ZipFile(\"Documents/hands-on-2021/GTSRB/GTSRB_Final_Test_Images.zip\",\"r\") as zip_ref1:\n",
    "    zip_ref1.extractall(\"Documents/hands-on-2021/GTSRB\")"
   ]
  },
  {
   "cell_type": "code",
   "execution_count": 72,
   "metadata": {},
   "outputs": [],
   "source": [
    "### Test # 1 fois surffit "
   ]
  },
  {
   "cell_type": "code",
   "execution_count": 73,
   "metadata": {},
   "outputs": [
    {
     "name": "stderr",
     "output_type": "stream",
     "text": [
      "  % Total    % Received % Xferd  Average Speed   Time    Time     Time  Current\n",
      "                                 Dload  Upload   Total   Spent    Left  Speed\n",
      "\n",
      "  0     0    0     0    0     0      0      0 --:--:-- --:--:-- --:--:--     0\n",
      "  0     0    0     0    0     0      0      0 --:--:-- --:--:-- --:--:--     0\n",
      "  0     0    0     0    0     0      0      0 --:--:--  0:00:01 --:--:--     0curl: (6) Could not resolve host: –O\n",
      "  % Total    % Received % Xferd  Average Speed   Time    Time     Time  Current\n",
      "                                 Dload  Upload   Total   Spent    Left  Speed\n",
      "\n",
      "  0     0    0     0    0     0      0      0 --:--:-- --:--:-- --:--:--     0\n",
      "  0     0    0     0    0     0      0      0 --:--:-- --:--:-- --:--:--     0\n",
      "100 99620  100 99620    0     0   278k      0 --:--:-- --:--:-- --:--:--  278k\n"
     ]
    }
   ],
   "source": [
    "! curl –O https://sid.erda.dk/public/archives/daaeac0d7ce1152aea9b61d9f1e19370/GTSRB_Final_Test_GT.zip >  Documents/hands-on-2021/GTSRB/GTSRB_Final_Test_GT.zip"
   ]
  },
  {
   "cell_type": "code",
   "execution_count": 74,
   "metadata": {},
   "outputs": [],
   "source": [
    "import zipfile\n",
    "with zipfile.ZipFile(\"Documents/hands-on-2021/GTSRB/GTSRB_Final_Test_GT.zip\",\"r\") as zip_ref2:\n",
    "    zip_ref2.extractall(\"Documents/hands-on-2021/GTSRB\")"
   ]
  },
  {
   "cell_type": "markdown",
   "metadata": {},
   "source": [
    "### OUVERTURE CHEMIN ET IMAGE"
   ]
  },
  {
   "cell_type": "code",
   "execution_count": 31,
   "metadata": {},
   "outputs": [],
   "source": [
    "TRAINING_CSV_PATH = config['data1']\n",
    "\n",
    "\n",
    "IMAGE_WIDTH = 30\n",
    "IMAGE_HEIGHT = IMAGE_WIDTH"
   ]
  },
  {
   "cell_type": "code",
   "execution_count": 32,
   "metadata": {},
   "outputs": [
    {
     "data": {
      "text/plain": [
       "'C:/Users/chahinez/Documents/hands-on-2021/GTSRB/GTSRB/Final_Training/Images/*'"
      ]
     },
     "execution_count": 32,
     "metadata": {},
     "output_type": "execute_result"
    }
   ],
   "source": [
    "os.path.dirname(TRAINING_CSV_PATH)"
   ]
  },
  {
   "cell_type": "code",
   "execution_count": 33,
   "metadata": {},
   "outputs": [],
   "source": [
    "def build_images_database(path):\n",
    "    \"\"\"Build a pandas DataFrame with all images information.\n",
    "    \n",
    "    Parameters\n",
    "    ----------\n",
    "    path: path pattern to read csv files containing images information\n",
    "    \n",
    "    Returns\n",
    "    -------\n",
    "    A pandas DataFrame with one line per image\n",
    "    \"\"\"\n",
    "    df_list = []\n",
    "    for filename in glob.glob(path):\n",
    "        df = pd.read_csv(filename, sep=';')\n",
    "        df['path'] = os.path.dirname(filename) + '/' + df['Filename']\n",
    "        df_list.append(df)\n",
    "    \n",
    "    return pd.concat(df_list, ignore_index=True)\n",
    "\n",
    "\n",
    "def build_images_list(filename_list, boxes_list=None):\n",
    "    \"\"\"Build a list of images as Numpy array\n",
    "    \n",
    "    Parameters\n",
    "    ----------\n",
    "    filename_list: list of images filenames\n",
    "    boxes_list: optional list of boxes for clipping within images. Boxes are 4-tuples (x1, y1, x2, y2).\n",
    "    \n",
    "    Returns\n",
    "    -------\n",
    "    A list of images as Numpy arrays\n",
    "    \n",
    "    \"\"\"\n",
    "    \n",
    "    # If no boxes_list is given, generate a fake boxes list with None boxes\n",
    "    # image.resize will take full size images if argument box == None\n",
    "    if boxes_list is None:\n",
    "        boxes_list = [None] * len(filename_list)\n",
    "        \n",
    "    assert len(filename_list) == len(boxes_list), \"filenames and boxes lists must have the same length\"\n",
    "    \n",
    "    images_list = []\n",
    "    for (filename, image_box) in zip(filename_list, boxes_list):\n",
    "        image = Image.open(filename)\n",
    "        image = image.resize((IMAGE_WIDTH, IMAGE_HEIGHT), box=image_box) # box argument clips image to (x1, y1, x2, y2)\n",
    "        image = np.array(image)\n",
    "        images_list.append(image)\n",
    "        \n",
    "    return images_list\n",
    "\n",
    "def build_classes_array(df, col_name='ClassId'):\n",
    "    \"\"\"Build a vector (numpy array) of classes\n",
    "    \n",
    "    Parameters\n",
    "    ----------\n",
    "    df : pandas Dataframe with column containing classes id\n",
    "    Returns\n",
    "    -------\n",
    "    Numpy array with images classes\n",
    "    \"\"\"\n",
    "    \n",
    "    return df[col_name].values\n",
    "    "
   ]
  },
  {
   "cell_type": "code",
   "execution_count": 34,
   "metadata": {},
   "outputs": [
    {
     "data": {
      "text/html": [
       "<div>\n",
       "<style scoped>\n",
       "    .dataframe tbody tr th:only-of-type {\n",
       "        vertical-align: middle;\n",
       "    }\n",
       "\n",
       "    .dataframe tbody tr th {\n",
       "        vertical-align: top;\n",
       "    }\n",
       "\n",
       "    .dataframe thead th {\n",
       "        text-align: right;\n",
       "    }\n",
       "</style>\n",
       "<table border=\"1\" class=\"dataframe\">\n",
       "  <thead>\n",
       "    <tr style=\"text-align: right;\">\n",
       "      <th></th>\n",
       "      <th>Filename</th>\n",
       "      <th>Width</th>\n",
       "      <th>Height</th>\n",
       "      <th>Roi.X1</th>\n",
       "      <th>Roi.Y1</th>\n",
       "      <th>Roi.X2</th>\n",
       "      <th>Roi.Y2</th>\n",
       "      <th>ClassId</th>\n",
       "      <th>path</th>\n",
       "    </tr>\n",
       "  </thead>\n",
       "  <tbody>\n",
       "    <tr>\n",
       "      <th>0</th>\n",
       "      <td>00000_00000.ppm</td>\n",
       "      <td>29</td>\n",
       "      <td>30</td>\n",
       "      <td>5</td>\n",
       "      <td>6</td>\n",
       "      <td>24</td>\n",
       "      <td>25</td>\n",
       "      <td>0</td>\n",
       "      <td>C:/Users/chahinez/Documents/hands-on-2021/GTSR...</td>\n",
       "    </tr>\n",
       "    <tr>\n",
       "      <th>1</th>\n",
       "      <td>00000_00001.ppm</td>\n",
       "      <td>30</td>\n",
       "      <td>30</td>\n",
       "      <td>5</td>\n",
       "      <td>5</td>\n",
       "      <td>25</td>\n",
       "      <td>25</td>\n",
       "      <td>0</td>\n",
       "      <td>C:/Users/chahinez/Documents/hands-on-2021/GTSR...</td>\n",
       "    </tr>\n",
       "    <tr>\n",
       "      <th>2</th>\n",
       "      <td>00000_00002.ppm</td>\n",
       "      <td>30</td>\n",
       "      <td>30</td>\n",
       "      <td>5</td>\n",
       "      <td>5</td>\n",
       "      <td>25</td>\n",
       "      <td>25</td>\n",
       "      <td>0</td>\n",
       "      <td>C:/Users/chahinez/Documents/hands-on-2021/GTSR...</td>\n",
       "    </tr>\n",
       "    <tr>\n",
       "      <th>3</th>\n",
       "      <td>00000_00003.ppm</td>\n",
       "      <td>31</td>\n",
       "      <td>31</td>\n",
       "      <td>5</td>\n",
       "      <td>5</td>\n",
       "      <td>26</td>\n",
       "      <td>26</td>\n",
       "      <td>0</td>\n",
       "      <td>C:/Users/chahinez/Documents/hands-on-2021/GTSR...</td>\n",
       "    </tr>\n",
       "    <tr>\n",
       "      <th>4</th>\n",
       "      <td>00000_00004.ppm</td>\n",
       "      <td>30</td>\n",
       "      <td>32</td>\n",
       "      <td>5</td>\n",
       "      <td>6</td>\n",
       "      <td>25</td>\n",
       "      <td>26</td>\n",
       "      <td>0</td>\n",
       "      <td>C:/Users/chahinez/Documents/hands-on-2021/GTSR...</td>\n",
       "    </tr>\n",
       "  </tbody>\n",
       "</table>\n",
       "</div>"
      ],
      "text/plain": [
       "          Filename  Width  Height  Roi.X1  Roi.Y1  Roi.X2  Roi.Y2  ClassId  \\\n",
       "0  00000_00000.ppm     29      30       5       6      24      25        0   \n",
       "1  00000_00001.ppm     30      30       5       5      25      25        0   \n",
       "2  00000_00002.ppm     30      30       5       5      25      25        0   \n",
       "3  00000_00003.ppm     31      31       5       5      26      26        0   \n",
       "4  00000_00004.ppm     30      32       5       6      25      26        0   \n",
       "\n",
       "                                                path  \n",
       "0  C:/Users/chahinez/Documents/hands-on-2021/GTSR...  \n",
       "1  C:/Users/chahinez/Documents/hands-on-2021/GTSR...  \n",
       "2  C:/Users/chahinez/Documents/hands-on-2021/GTSR...  \n",
       "3  C:/Users/chahinez/Documents/hands-on-2021/GTSR...  \n",
       "4  C:/Users/chahinez/Documents/hands-on-2021/GTSR...  "
      ]
     },
     "execution_count": 34,
     "metadata": {},
     "output_type": "execute_result"
    }
   ],
   "source": [
    "images_df = build_images_database(TRAINING_CSV_PATH)\n",
    "images_df.head()"
   ]
  },
  {
   "cell_type": "code",
   "execution_count": 35,
   "metadata": {},
   "outputs": [],
   "source": [
    "# Reading only 200 images for the moment\n",
    "images_list = build_images_list(images_df.head(200)['path'].values,\n",
    "                                images_df.head(200).apply(lambda r: (r['Roi.X1'], r['Roi.Y1'], r['Roi.X2'], r['Roi.Y2']),\n",
    "                                                          axis=1).values)"
   ]
  },
  {
   "cell_type": "code",
   "execution_count": 36,
   "metadata": {},
   "outputs": [
    {
     "data": {
      "text/plain": [
       "<matplotlib.image.AxesImage at 0x1f628177280>"
      ]
     },
     "execution_count": 36,
     "metadata": {},
     "output_type": "execute_result"
    },
    {
     "data": {
      "image/png": "[encoded data removed]",
      "text/plain": [
       "<Figure size 432x288 with 1 Axes>"
      ]
     },
     "metadata": {
      "needs_background": "light"
     },
     "output_type": "display_data"
    }
   ],
   "source": [
    "plt.imshow(images_list[190])"
   ]
  },
  {
   "cell_type": "code",
   "execution_count": 37,
   "metadata": {},
   "outputs": [
    {
     "data": {
      "text/plain": [
       "array([ 0,  0,  0, ..., 42, 42, 42], dtype=int64)"
      ]
     },
     "execution_count": 37,
     "metadata": {},
     "output_type": "execute_result"
    }
   ],
   "source": [
    "build_classes_array(images_df)"
   ]
  },
  {
   "cell_type": "code",
   "execution_count": 38,
   "metadata": {},
   "outputs": [
    {
     "data": {
      "text/plain": [
       "2     2250\n",
       "1     2220\n",
       "13    2160\n",
       "12    2100\n",
       "38    2070\n",
       "10    2010\n",
       "4     1980\n",
       "5     1860\n",
       "25    1500\n",
       "9     1470\n",
       "7     1440\n",
       "8     1410\n",
       "3     1410\n",
       "11    1320\n",
       "35    1200\n",
       "18    1200\n",
       "17    1110\n",
       "31     780\n",
       "14     780\n",
       "33     689\n",
       "15     630\n",
       "26     600\n",
       "28     540\n",
       "23     510\n",
       "30     450\n",
       "16     420\n",
       "34     420\n",
       "6      420\n",
       "22     390\n",
       "36     390\n",
       "40     360\n",
       "20     360\n",
       "21     330\n",
       "39     300\n",
       "29     270\n",
       "24     270\n",
       "27     240\n",
       "42     240\n",
       "32     240\n",
       "41     240\n",
       "19     210\n",
       "37     210\n",
       "0      210\n",
       "Name: ClassId, dtype: int64"
      ]
     },
     "execution_count": 38,
     "metadata": {},
     "output_type": "execute_result"
    }
   ],
   "source": [
    "images_df['ClassId'].value_counts()"
   ]
  },
  {
   "cell_type": "code",
   "execution_count": 39,
   "metadata": {},
   "outputs": [
    {
     "data": {
      "image/png": "[encoded data removed]",
      "text/plain": [
       "<Figure size 432x288 with 1 Axes>"
      ]
     },
     "metadata": {
      "needs_background": "light"
     },
     "output_type": "display_data"
    }
   ],
   "source": [
    "(images_df['Roi.X2'] - images_df['Roi.X1']).hist(bins=100);"
   ]
  },
  {
   "cell_type": "code",
   "execution_count": 40,
   "metadata": {},
   "outputs": [
    {
     "data": {
      "text/plain": [
       "32.0"
      ]
     },
     "execution_count": 40,
     "metadata": {},
     "output_type": "execute_result"
    }
   ],
   "source": [
    "(images_df['Roi.Y2'] - images_df['Roi.Y1']).median()"
   ]
  },
  {
   "cell_type": "code",
   "execution_count": 41,
   "metadata": {},
   "outputs": [
    {
     "data": {
      "text/plain": [
       "<matplotlib.image.AxesImage at 0x1f62831fd90>"
      ]
     },
     "execution_count": 41,
     "metadata": {},
     "output_type": "execute_result"
    },
    {
     "data": {
      "image/png": "[encoded data removed]",
      "text/plain": [
       "<Figure size 432x288 with 1 Axes>"
      ]
     },
     "metadata": {
      "needs_background": "light"
     },
     "output_type": "display_data"
    }
   ],
   "source": [
    "plt.imshow(Image.open(images_df.query('Width == 162')['path'].values[0]))"
   ]
  },
  {
   "cell_type": "code",
   "execution_count": 42,
   "metadata": {},
   "outputs": [
    {
     "data": {
      "text/html": [
       "<div>\n",
       "<style scoped>\n",
       "    .dataframe tbody tr th:only-of-type {\n",
       "        vertical-align: middle;\n",
       "    }\n",
       "\n",
       "    .dataframe tbody tr th {\n",
       "        vertical-align: top;\n",
       "    }\n",
       "\n",
       "    .dataframe thead th {\n",
       "        text-align: right;\n",
       "    }\n",
       "</style>\n",
       "<table border=\"1\" class=\"dataframe\">\n",
       "  <thead>\n",
       "    <tr style=\"text-align: right;\">\n",
       "      <th></th>\n",
       "      <th>Filename</th>\n",
       "      <th>Width</th>\n",
       "      <th>Height</th>\n",
       "      <th>Roi.X1</th>\n",
       "      <th>Roi.Y1</th>\n",
       "      <th>Roi.X2</th>\n",
       "      <th>Roi.Y2</th>\n",
       "      <th>ClassId</th>\n",
       "      <th>path</th>\n",
       "    </tr>\n",
       "  </thead>\n",
       "  <tbody>\n",
       "    <tr>\n",
       "      <th>0</th>\n",
       "      <td>00000_00000.ppm</td>\n",
       "      <td>29</td>\n",
       "      <td>30</td>\n",
       "      <td>5</td>\n",
       "      <td>6</td>\n",
       "      <td>24</td>\n",
       "      <td>25</td>\n",
       "      <td>0</td>\n",
       "      <td>C:/Users/chahinez/Documents/hands-on-2021/GTSR...</td>\n",
       "    </tr>\n",
       "  </tbody>\n",
       "</table>\n",
       "</div>"
      ],
      "text/plain": [
       "          Filename  Width  Height  Roi.X1  Roi.Y1  Roi.X2  Roi.Y2  ClassId  \\\n",
       "0  00000_00000.ppm     29      30       5       6      24      25        0   \n",
       "\n",
       "                                                path  \n",
       "0  C:/Users/chahinez/Documents/hands-on-2021/GTSR...  "
      ]
     },
     "execution_count": 42,
     "metadata": {},
     "output_type": "execute_result"
    }
   ],
   "source": [
    "images_df.head(1)"
   ]
  },
  {
   "cell_type": "markdown",
   "metadata": {},
   "source": [
    "## Training the model"
   ]
  },
  {
   "cell_type": "code",
   "execution_count": 43,
   "metadata": {},
   "outputs": [],
   "source": [
    "import tensorflow as tf\n",
    "import keras"
   ]
  },
  {
   "cell_type": "code",
   "execution_count": 44,
   "metadata": {},
   "outputs": [],
   "source": [
    "from tensorflow import keras"
   ]
  },
  {
   "cell_type": "code",
   "execution_count": 45,
   "metadata": {},
   "outputs": [],
   "source": [
    "# import cv2\n",
    "import tensorflow as tf\n",
    "from tensorflow import keras\n",
    "\n",
    "from sklearn.model_selection import train_test_split\n",
    "\n",
    "from keras.utils import to_categorical\n",
    "from keras.models import Sequential, load_model\n",
    "from keras.layers import Conv2D, MaxPool2D, Dense , Flatten , Dropout"
   ]
  },
  {
   "cell_type": "markdown",
   "metadata": {},
   "source": [
    "#### Take a sample to test the code"
   ]
  },
  {
   "cell_type": "code",
   "execution_count": 46,
   "metadata": {},
   "outputs": [
    {
     "name": "stdout",
     "output_type": "stream",
     "text": [
      "(1000, 30, 30, 3) (1000,)\n"
     ]
    }
   ],
   "source": [
    "N = config['N']\n",
    "N = None # Take all\n",
    "if N is None:\n",
    "  images_list = build_images_list(images_df['path'].values,\n",
    "                                  images_df.apply(lambda r: (r['Roi.X1'], r['Roi.Y1'], r['Roi.X2'], r['Roi.Y2']),\n",
    "                                                            axis=1).values)\n",
    "  data = np.array(images_list)\n",
    "  labels = build_classes_array(images_df)\n",
    "else:\n",
    "  images_list = build_images_list(images_df.head(N)['path'].values,\n",
    "                                  images_df.head(N).apply(lambda r: (r['Roi.X1'], r['Roi.Y1'], r['Roi.X2'], r['Roi.Y2']),\n",
    "                                                            axis=1).values)\n",
    "  data = np.array(images_list)\n",
    "  labels = build_classes_array(images_df)[:N]\n",
    "print(data.shape, labels.shape)"
   ]
  },
  {
   "cell_type": "code",
   "execution_count": 47,
   "metadata": {},
   "outputs": [
    {
     "name": "stdout",
     "output_type": "stream",
     "text": [
      "(800, 30, 30, 3) (200, 30, 30, 3) (800,) (200,)\n"
     ]
    }
   ],
   "source": [
    "#Splitting training and testing dataset\n",
    "X_train, X_test, y_train, y_test = train_test_split(data, labels,  test_size=config[\"test_size\"],random_state=config[\"random_state\"])\n",
    "\n",
    "print(X_train.shape, X_test.shape, y_train.shape, y_test.shape)"
   ]
  },
  {
   "cell_type": "code",
   "execution_count": 48,
   "metadata": {},
   "outputs": [],
   "source": [
    "#Converting the labels into one hot encoding\n",
    "y_train = to_categorical(y_train, 43)\n",
    "y_test = to_categorical(y_test, 43)"
   ]
  },
  {
   "cell_type": "code",
   "execution_count": 49,
   "metadata": {},
   "outputs": [],
   "source": [
    "#Building the model\n",
    "model = Sequential()\n",
    "model.add(Conv2D(filters=32, kernel_size=(5,5), activation=config['activation'], input_shape=X_train.shape[1:]))\n",
    "model.add(Conv2D(filters=32, kernel_size=(5,5), activation=config['activation']))\n",
    "model.add(MaxPool2D(pool_size=(2, 2)))\n",
    "model.add(Dropout(rate= config['Dropout_rate1']))\n",
    "model.add(Conv2D(filters=64, kernel_size=(3, 3), activation=config['activation']))\n",
    "model.add(Conv2D(filters=64, kernel_size=(3, 3), activation=config['activation']))\n",
    "model.add(MaxPool2D(pool_size=(2, 2)))\n",
    "model.add(Dropout(rate=config['Dropout_rate2']))\n",
    "model.add(Flatten())\n",
    "model.add(Dense(256, activation=config['activation']))\n",
    "model.add(Dropout(rate=config['Dropout_rate3']))\n",
    "model.add(Dense(43, activation=config['activation_L']))\n",
    "\n",
    "#Compilation of the model\n",
    "model.compile(loss='categorical_crossentropy', optimizer=config['optimizer'], metrics=config['metrics'])"
   ]
  },
  {
   "cell_type": "code",
   "execution_count": 50,
   "metadata": {},
   "outputs": [
    {
     "name": "stdout",
     "output_type": "stream",
     "text": [
      "Epoch 1/15\n",
      "25/25 [==============================] - 5s 186ms/step - loss: 3.9498 - accuracy: 0.6037 - val_loss: 0.7317 - val_accuracy: 0.8500\n",
      "Epoch 2/15\n",
      "25/25 [==============================] - 4s 168ms/step - loss: 0.6503 - accuracy: 0.7700 - val_loss: 0.4538 - val_accuracy: 0.9700\n",
      "Epoch 3/15\n",
      "25/25 [==============================] - 4s 172ms/step - loss: 0.3603 - accuracy: 0.8900 - val_loss: 0.2633 - val_accuracy: 1.0000\n",
      "Epoch 4/15\n",
      "25/25 [==============================] - 4s 166ms/step - loss: 0.1858 - accuracy: 0.9513 - val_loss: 0.1052 - val_accuracy: 1.0000\n",
      "Epoch 5/15\n",
      "25/25 [==============================] - 4s 172ms/step - loss: 0.1052 - accuracy: 0.9787 - val_loss: 0.0973 - val_accuracy: 1.0000oss: 0.1052 - accuracy: 0.97\n",
      "Epoch 6/15\n",
      "25/25 [==============================] - 5s 189ms/step - loss: 0.0990 - accuracy: 0.9787 - val_loss: 0.0508 - val_accuracy: 1.0000\n",
      "Epoch 7/15\n",
      "25/25 [==============================] - 4s 167ms/step - loss: 0.0633 - accuracy: 0.9862 - val_loss: 0.0263 - val_accuracy: 0.9950\n",
      "Epoch 8/15\n",
      "25/25 [==============================] - 4s 166ms/step - loss: 0.0617 - accuracy: 0.9825 - val_loss: 0.0509 - val_accuracy: 0.9950\n",
      "Epoch 9/15\n",
      "25/25 [==============================] - 4s 167ms/step - loss: 0.0544 - accuracy: 0.9862 - val_loss: 0.0249 - val_accuracy: 1.0000\n",
      "Epoch 10/15\n",
      "25/25 [==============================] - 4s 168ms/step - loss: 0.0244 - accuracy: 0.9975 - val_loss: 0.0090 - val_accuracy: 1.0000\n",
      "Epoch 11/15\n",
      "25/25 [==============================] - 4s 166ms/step - loss: 0.0577 - accuracy: 0.9875 - val_loss: 0.0104 - val_accuracy: 1.0000\n",
      "Epoch 12/15\n",
      "25/25 [==============================] - 4s 178ms/step - loss: 0.0166 - accuracy: 0.9975 - val_loss: 0.0039 - val_accuracy: 1.0000\n",
      "Epoch 13/15\n",
      "25/25 [==============================] - 4s 165ms/step - loss: 0.0320 - accuracy: 0.9887 - val_loss: 0.0062 - val_accuracy: 1.0000\n",
      "Epoch 14/15\n",
      "25/25 [==============================] - 4s 180ms/step - loss: 0.0393 - accuracy: 0.9900 - val_loss: 0.0266 - val_accuracy: 1.0000\n",
      "Epoch 15/15\n",
      "25/25 [==============================] - 5s 187ms/step - loss: 0.0150 - accuracy: 0.9962 - val_loss: 0.0063 - val_accuracy: 1.0000\n",
      "Wall time: 1min 16s\n"
     ]
    }
   ],
   "source": [
    "%%time\n",
    "epochs = 15\n",
    "history = model.fit(X_train, y_train, batch_size=config[\"batch_size\"], epochs=config[\"epochs\"], validation_data=(X_test, y_test))\n",
    "#model.save(\"/my_model.h5\")"
   ]
  },
  {
   "cell_type": "code",
   "execution_count": 51,
   "metadata": {},
   "outputs": [],
   "source": [
    "#import tensorflow as tf\n",
    "#tf.__version__"
   ]
  },
  {
   "cell_type": "markdown",
   "metadata": {},
   "source": [
    "## Plot model accuracy & loss"
   ]
  },
  {
   "cell_type": "code",
   "execution_count": 52,
   "metadata": {},
   "outputs": [
    {
     "data": {
      "image/png": "[encoded data removed]",
      "text/plain": [
       "<Figure size 432x288 with 1 Axes>"
      ]
     },
     "metadata": {
      "needs_background": "light"
     },
     "output_type": "display_data"
    },
    {
     "data": {
      "image/png": "[encoded data removed]",
      "text/plain": [
       "<Figure size 432x288 with 1 Axes>"
      ]
     },
     "metadata": {
      "needs_background": "light"
     },
     "output_type": "display_data"
    }
   ],
   "source": [
    "#plotting graphs for accuracy \n",
    "plt.figure(0)\n",
    "plt.plot(history.history['accuracy'], label='training accuracy')\n",
    "plt.plot(history.history['val_accuracy'], label='val accuracy')\n",
    "plt.title('Accuracy')\n",
    "plt.xlabel('epochs')\n",
    "plt.ylabel('accuracy')\n",
    "plt.legend()\n",
    "plt.show()\n",
    "\n",
    "plt.figure(1)\n",
    "plt.plot(history.history['loss'], label='training loss')\n",
    "plt.plot(history.history['val_loss'], label='val loss')\n",
    "plt.title('Loss')\n",
    "plt.xlabel('epochs')\n",
    "plt.ylabel('loss')\n",
    "plt.legend()\n",
    "plt.show()\n"
   ]
  },
  {
   "cell_type": "markdown",
   "metadata": {},
   "source": [
    "## Save classifier"
   ]
  },
  {
   "cell_type": "code",
   "execution_count": 63,
   "metadata": {},
   "outputs": [],
   "source": [
    "#model.save(\"models/traffic_signs_20210319_1144.h5\")\n",
    "\n",
    "def save_classifier(model, basename):\n",
    "  \"\"\" Save to h5 format a TF model with a timestanp\n",
    "\n",
    "  Parameters\n",
    "  ----------\n",
    "  model : trained tf model\n",
    "  basename : basename including path to use for filename \n",
    "\n",
    "  Returns\n",
    "  -------\n",
    "  None\n",
    "  \"\"\"\n",
    "  model.save('{}_{}.h5'.format(basename,datetime.datetime.now().strftime('%Y-%m-%d_%H-%M-%S')))\n",
    "  return"
   ]
  },
  {
   "cell_type": "code",
   "execution_count": 64,
   "metadata": {},
   "outputs": [],
   "source": [
    "import datetime\n",
    "#datetime.datetime.now().strftime('%Y-%m-%d_%H:%M:%S')"
   ]
  },
  {
   "cell_type": "code",
   "execution_count": 74,
   "metadata": {},
   "outputs": [],
   "source": [
    "save_classifier(model,config['model_path'])"
   ]
  },
  {
   "cell_type": "markdown",
   "metadata": {},
   "source": [
    "## Testing model"
   ]
  },
  {
   "cell_type": "code",
   "execution_count": 75,
   "metadata": {},
   "outputs": [],
   "source": [
    "def classify_image(path, model,image_box=None):\n",
    "  \"\"\" Classify image by model\n",
    "\n",
    "  Parameters\n",
    "  ----------\n",
    "  path : filepath to image\n",
    "  model : tf/keras classifier\n",
    "\n",
    "  Returns\n",
    "  -------\n",
    "  class id returned by model classifier\n",
    "  \"\"\"\n",
    "  images_list = []\n",
    "  image = Image.open(path)\n",
    "  image = image.resize((IMAGE_WIDTH, IMAGE_HEIGHT), box=image_box) # box argument clips image to (x1, y1, x2, y2)\n",
    "  image = np.array(image)\n",
    "  images_list.append(image)\n",
    "\n",
    "  return model.predict_classes(np.array(images_list))"
   ]
  },
  {
   "cell_type": "code",
   "execution_count": 76,
   "metadata": {},
   "outputs": [
    {
     "name": "stdout",
     "output_type": "stream",
     "text": [
      "WARNING:tensorflow:From <ipython-input-75-dcbb356404dc>:19: Sequential.predict_classes (from tensorflow.python.keras.engine.sequential) is deprecated and will be removed after 2021-01-01.\n",
      "Instructions for updating:\n",
      "Please use instead:* `np.argmax(model.predict(x), axis=-1)`,   if your model does multi-class classification   (e.g. if it uses a `softmax` last-layer activation).* `(model.predict(x) > 0.5).astype(\"int32\")`,   if your model does binary classification   (e.g. if it uses a `sigmoid` last-layer activation).\n"
     ]
    },
    {
     "name": "stderr",
     "output_type": "stream",
     "text": [
      "WARNING:tensorflow:From <ipython-input-75-dcbb356404dc>:19: Sequential.predict_classes (from tensorflow.python.keras.engine.sequential) is deprecated and will be removed after 2021-01-01.\n",
      "Instructions for updating:\n",
      "Please use instead:* `np.argmax(model.predict(x), axis=-1)`,   if your model does multi-class classification   (e.g. if it uses a `softmax` last-layer activation).* `(model.predict(x) > 0.5).astype(\"int32\")`,   if your model does binary classification   (e.g. if it uses a `sigmoid` last-layer activation).\n"
     ]
    },
    {
     "data": {
      "text/plain": [
       "array([1], dtype=int64)"
      ]
     },
     "execution_count": 76,
     "metadata": {},
     "output_type": "execute_result"
    }
   ],
   "source": [
    "image_sample = images_df.sample(1)\n",
    "\n",
    "classify_image(image_sample['path'].values[0],\n",
    "               model,\n",
    "               image_sample.apply(lambda r: (r['Roi.X1'], r['Roi.Y1'], r['Roi.X2'], r['Roi.Y2']),\n",
    "                                  axis=1).values[0]\n",
    "               )"
   ]
  },
  {
   "cell_type": "code",
   "execution_count": 77,
   "metadata": {},
   "outputs": [
    {
     "data": {
      "text/plain": [
       "<matplotlib.image.AxesImage at 0x1f62a0df730>"
      ]
     },
     "execution_count": 77,
     "metadata": {},
     "output_type": "execute_result"
    },
    {
     "data": {
      "image/png": "[encoded data removed]",
      "text/plain": [
       "<Figure size 432x288 with 1 Axes>"
      ]
     },
     "metadata": {
      "needs_background": "light"
     },
     "output_type": "display_data"
    }
   ],
   "source": [
    "plt.imshow(Image.open(image_sample['path'].values[0]))\n"
   ]
  },
  {
   "cell_type": "markdown",
   "metadata": {},
   "source": [
    "## Reloading model"
   ]
  },
  {
   "cell_type": "code",
   "execution_count": 78,
   "metadata": {},
   "outputs": [],
   "source": [
    "test_model = load_model('C:/Users/chahinez/Documents/hands-on-2021/models/traffic_signs_2021-03-28_17-45-02.h5')"
   ]
  },
  {
   "cell_type": "code",
   "execution_count": 79,
   "metadata": {},
   "outputs": [
    {
     "data": {
      "text/plain": [
       "array([8], dtype=int64)"
      ]
     },
     "execution_count": 79,
     "metadata": {},
     "output_type": "execute_result"
    }
   ],
   "source": [
    "classify_image(image_sample['path'].values[0],\n",
    "               test_model,\n",
    "               image_sample.apply(lambda r: (r['Roi.X1'], r['Roi.Y1'], r['Roi.X2'], r['Roi.Y2']),\n",
    "                                  axis=1).values[0]\n",
    "               )"
   ]
  },
  {
   "cell_type": "markdown",
   "metadata": {},
   "source": [
    "## Evaluating performance"
   ]
  },
  {
   "cell_type": "raw",
   "metadata": {},
   "source": [
    "test data already extracted"
   ]
  },
  {
   "cell_type": "code",
   "execution_count": null,
   "metadata": {},
   "outputs": [],
   "source": []
  },
  {
   "cell_type": "markdown",
   "metadata": {},
   "source": [
    "#### Load text data"
   ]
  },
  {
   "cell_type": "code",
   "execution_count": 80,
   "metadata": {},
   "outputs": [
    {
     "data": {
      "text/html": [
       "<div>\n",
       "<style scoped>\n",
       "    .dataframe tbody tr th:only-of-type {\n",
       "        vertical-align: middle;\n",
       "    }\n",
       "\n",
       "    .dataframe tbody tr th {\n",
       "        vertical-align: top;\n",
       "    }\n",
       "\n",
       "    .dataframe thead th {\n",
       "        text-align: right;\n",
       "    }\n",
       "</style>\n",
       "<table border=\"1\" class=\"dataframe\">\n",
       "  <thead>\n",
       "    <tr style=\"text-align: right;\">\n",
       "      <th></th>\n",
       "      <th>Filename</th>\n",
       "      <th>Width</th>\n",
       "      <th>Height</th>\n",
       "      <th>Roi.X1</th>\n",
       "      <th>Roi.Y1</th>\n",
       "      <th>Roi.X2</th>\n",
       "      <th>Roi.Y2</th>\n",
       "      <th>ClassId</th>\n",
       "      <th>path</th>\n",
       "    </tr>\n",
       "  </thead>\n",
       "  <tbody>\n",
       "    <tr>\n",
       "      <th>0</th>\n",
       "      <td>00000.ppm</td>\n",
       "      <td>53</td>\n",
       "      <td>54</td>\n",
       "      <td>6</td>\n",
       "      <td>5</td>\n",
       "      <td>48</td>\n",
       "      <td>49</td>\n",
       "      <td>16</td>\n",
       "      <td>C:/Users/chahinez/Documents/hands-on-2021/GTSR...</td>\n",
       "    </tr>\n",
       "    <tr>\n",
       "      <th>1</th>\n",
       "      <td>00001.ppm</td>\n",
       "      <td>42</td>\n",
       "      <td>45</td>\n",
       "      <td>5</td>\n",
       "      <td>5</td>\n",
       "      <td>36</td>\n",
       "      <td>40</td>\n",
       "      <td>1</td>\n",
       "      <td>C:/Users/chahinez/Documents/hands-on-2021/GTSR...</td>\n",
       "    </tr>\n",
       "    <tr>\n",
       "      <th>2</th>\n",
       "      <td>00002.ppm</td>\n",
       "      <td>48</td>\n",
       "      <td>52</td>\n",
       "      <td>6</td>\n",
       "      <td>6</td>\n",
       "      <td>43</td>\n",
       "      <td>47</td>\n",
       "      <td>38</td>\n",
       "      <td>C:/Users/chahinez/Documents/hands-on-2021/GTSR...</td>\n",
       "    </tr>\n",
       "    <tr>\n",
       "      <th>3</th>\n",
       "      <td>00003.ppm</td>\n",
       "      <td>27</td>\n",
       "      <td>29</td>\n",
       "      <td>5</td>\n",
       "      <td>5</td>\n",
       "      <td>22</td>\n",
       "      <td>24</td>\n",
       "      <td>33</td>\n",
       "      <td>C:/Users/chahinez/Documents/hands-on-2021/GTSR...</td>\n",
       "    </tr>\n",
       "    <tr>\n",
       "      <th>4</th>\n",
       "      <td>00004.ppm</td>\n",
       "      <td>60</td>\n",
       "      <td>57</td>\n",
       "      <td>5</td>\n",
       "      <td>5</td>\n",
       "      <td>55</td>\n",
       "      <td>52</td>\n",
       "      <td>11</td>\n",
       "      <td>C:/Users/chahinez/Documents/hands-on-2021/GTSR...</td>\n",
       "    </tr>\n",
       "  </tbody>\n",
       "</table>\n",
       "</div>"
      ],
      "text/plain": [
       "    Filename  Width  Height  Roi.X1  Roi.Y1  Roi.X2  Roi.Y2  ClassId  \\\n",
       "0  00000.ppm     53      54       6       5      48      49       16   \n",
       "1  00001.ppm     42      45       5       5      36      40        1   \n",
       "2  00002.ppm     48      52       6       6      43      47       38   \n",
       "3  00003.ppm     27      29       5       5      22      24       33   \n",
       "4  00004.ppm     60      57       5       5      55      52       11   \n",
       "\n",
       "                                                path  \n",
       "0  C:/Users/chahinez/Documents/hands-on-2021/GTSR...  \n",
       "1  C:/Users/chahinez/Documents/hands-on-2021/GTSR...  \n",
       "2  C:/Users/chahinez/Documents/hands-on-2021/GTSR...  \n",
       "3  C:/Users/chahinez/Documents/hands-on-2021/GTSR...  \n",
       "4  C:/Users/chahinez/Documents/hands-on-2021/GTSR...  "
      ]
     },
     "execution_count": 80,
     "metadata": {},
     "output_type": "execute_result"
    }
   ],
   "source": [
    "test_images_df = pd.read_csv('C:/Users/chahinez/Documents/hands-on-2021/GTSRB/GT-final_test.csv', sep=';')\n",
    "test_images_df['path']=test_images_df['Filename'].apply(lambda x:'C:/Users/chahinez/Documents/hands-on-2021/GTSRB/GTSRB/Final_Test/Images/'+x)\n",
    "test_images_df.head()\n",
    "#test_images_df.tail() # Voir fin du fichier"
   ]
  },
  {
   "cell_type": "code",
   "execution_count": 81,
   "metadata": {},
   "outputs": [],
   "source": [
    "# Recharger les images qui permettent d'affichier les formes \n",
    "test_list = build_images_list(test_images_df['path'].values,\n",
    "                                  test_images_df.apply(lambda r: (r['Roi.X1'], r['Roi.Y1'], r['Roi.X2'], r['Roi.Y2']),\n",
    "                                                            axis=1).values)\n",
    "test_data = np.array(test_list)\n",
    "test_labels = build_classes_array(test_images_df)"
   ]
  },
  {
   "cell_type": "code",
   "execution_count": 82,
   "metadata": {},
   "outputs": [
    {
     "data": {
      "text/html": [
       "<div>\n",
       "<style scoped>\n",
       "    .dataframe tbody tr th:only-of-type {\n",
       "        vertical-align: middle;\n",
       "    }\n",
       "\n",
       "    .dataframe tbody tr th {\n",
       "        vertical-align: top;\n",
       "    }\n",
       "\n",
       "    .dataframe thead th {\n",
       "        text-align: right;\n",
       "    }\n",
       "</style>\n",
       "<table border=\"1\" class=\"dataframe\">\n",
       "  <thead>\n",
       "    <tr style=\"text-align: right;\">\n",
       "      <th></th>\n",
       "      <th>Filename</th>\n",
       "      <th>Width</th>\n",
       "      <th>Height</th>\n",
       "      <th>Roi.X1</th>\n",
       "      <th>Roi.Y1</th>\n",
       "      <th>Roi.X2</th>\n",
       "      <th>Roi.Y2</th>\n",
       "      <th>ClassId</th>\n",
       "      <th>path</th>\n",
       "    </tr>\n",
       "  </thead>\n",
       "  <tbody>\n",
       "    <tr>\n",
       "      <th>0</th>\n",
       "      <td>00000.ppm</td>\n",
       "      <td>53</td>\n",
       "      <td>54</td>\n",
       "      <td>6</td>\n",
       "      <td>5</td>\n",
       "      <td>48</td>\n",
       "      <td>49</td>\n",
       "      <td>16</td>\n",
       "      <td>C:/Users/chahinez/Documents/hands-on-2021/GTSR...</td>\n",
       "    </tr>\n",
       "    <tr>\n",
       "      <th>1</th>\n",
       "      <td>00001.ppm</td>\n",
       "      <td>42</td>\n",
       "      <td>45</td>\n",
       "      <td>5</td>\n",
       "      <td>5</td>\n",
       "      <td>36</td>\n",
       "      <td>40</td>\n",
       "      <td>1</td>\n",
       "      <td>C:/Users/chahinez/Documents/hands-on-2021/GTSR...</td>\n",
       "    </tr>\n",
       "    <tr>\n",
       "      <th>2</th>\n",
       "      <td>00002.ppm</td>\n",
       "      <td>48</td>\n",
       "      <td>52</td>\n",
       "      <td>6</td>\n",
       "      <td>6</td>\n",
       "      <td>43</td>\n",
       "      <td>47</td>\n",
       "      <td>38</td>\n",
       "      <td>C:/Users/chahinez/Documents/hands-on-2021/GTSR...</td>\n",
       "    </tr>\n",
       "    <tr>\n",
       "      <th>3</th>\n",
       "      <td>00003.ppm</td>\n",
       "      <td>27</td>\n",
       "      <td>29</td>\n",
       "      <td>5</td>\n",
       "      <td>5</td>\n",
       "      <td>22</td>\n",
       "      <td>24</td>\n",
       "      <td>33</td>\n",
       "      <td>C:/Users/chahinez/Documents/hands-on-2021/GTSR...</td>\n",
       "    </tr>\n",
       "    <tr>\n",
       "      <th>4</th>\n",
       "      <td>00004.ppm</td>\n",
       "      <td>60</td>\n",
       "      <td>57</td>\n",
       "      <td>5</td>\n",
       "      <td>5</td>\n",
       "      <td>55</td>\n",
       "      <td>52</td>\n",
       "      <td>11</td>\n",
       "      <td>C:/Users/chahinez/Documents/hands-on-2021/GTSR...</td>\n",
       "    </tr>\n",
       "    <tr>\n",
       "      <th>...</th>\n",
       "      <td>...</td>\n",
       "      <td>...</td>\n",
       "      <td>...</td>\n",
       "      <td>...</td>\n",
       "      <td>...</td>\n",
       "      <td>...</td>\n",
       "      <td>...</td>\n",
       "      <td>...</td>\n",
       "      <td>...</td>\n",
       "    </tr>\n",
       "    <tr>\n",
       "      <th>12625</th>\n",
       "      <td>12625.ppm</td>\n",
       "      <td>42</td>\n",
       "      <td>41</td>\n",
       "      <td>5</td>\n",
       "      <td>6</td>\n",
       "      <td>37</td>\n",
       "      <td>36</td>\n",
       "      <td>12</td>\n",
       "      <td>C:/Users/chahinez/Documents/hands-on-2021/GTSR...</td>\n",
       "    </tr>\n",
       "    <tr>\n",
       "      <th>12626</th>\n",
       "      <td>12626.ppm</td>\n",
       "      <td>50</td>\n",
       "      <td>51</td>\n",
       "      <td>6</td>\n",
       "      <td>5</td>\n",
       "      <td>45</td>\n",
       "      <td>46</td>\n",
       "      <td>33</td>\n",
       "      <td>C:/Users/chahinez/Documents/hands-on-2021/GTSR...</td>\n",
       "    </tr>\n",
       "    <tr>\n",
       "      <th>12627</th>\n",
       "      <td>12627.ppm</td>\n",
       "      <td>29</td>\n",
       "      <td>29</td>\n",
       "      <td>6</td>\n",
       "      <td>6</td>\n",
       "      <td>24</td>\n",
       "      <td>24</td>\n",
       "      <td>6</td>\n",
       "      <td>C:/Users/chahinez/Documents/hands-on-2021/GTSR...</td>\n",
       "    </tr>\n",
       "    <tr>\n",
       "      <th>12628</th>\n",
       "      <td>12628.ppm</td>\n",
       "      <td>48</td>\n",
       "      <td>49</td>\n",
       "      <td>5</td>\n",
       "      <td>6</td>\n",
       "      <td>43</td>\n",
       "      <td>44</td>\n",
       "      <td>7</td>\n",
       "      <td>C:/Users/chahinez/Documents/hands-on-2021/GTSR...</td>\n",
       "    </tr>\n",
       "    <tr>\n",
       "      <th>12629</th>\n",
       "      <td>12629.ppm</td>\n",
       "      <td>32</td>\n",
       "      <td>31</td>\n",
       "      <td>6</td>\n",
       "      <td>5</td>\n",
       "      <td>27</td>\n",
       "      <td>26</td>\n",
       "      <td>10</td>\n",
       "      <td>C:/Users/chahinez/Documents/hands-on-2021/GTSR...</td>\n",
       "    </tr>\n",
       "  </tbody>\n",
       "</table>\n",
       "<p>12630 rows × 9 columns</p>\n",
       "</div>"
      ],
      "text/plain": [
       "        Filename  Width  Height  Roi.X1  Roi.Y1  Roi.X2  Roi.Y2  ClassId  \\\n",
       "0      00000.ppm     53      54       6       5      48      49       16   \n",
       "1      00001.ppm     42      45       5       5      36      40        1   \n",
       "2      00002.ppm     48      52       6       6      43      47       38   \n",
       "3      00003.ppm     27      29       5       5      22      24       33   \n",
       "4      00004.ppm     60      57       5       5      55      52       11   \n",
       "...          ...    ...     ...     ...     ...     ...     ...      ...   \n",
       "12625  12625.ppm     42      41       5       6      37      36       12   \n",
       "12626  12626.ppm     50      51       6       5      45      46       33   \n",
       "12627  12627.ppm     29      29       6       6      24      24        6   \n",
       "12628  12628.ppm     48      49       5       6      43      44        7   \n",
       "12629  12629.ppm     32      31       6       5      27      26       10   \n",
       "\n",
       "                                                    path  \n",
       "0      C:/Users/chahinez/Documents/hands-on-2021/GTSR...  \n",
       "1      C:/Users/chahinez/Documents/hands-on-2021/GTSR...  \n",
       "2      C:/Users/chahinez/Documents/hands-on-2021/GTSR...  \n",
       "3      C:/Users/chahinez/Documents/hands-on-2021/GTSR...  \n",
       "4      C:/Users/chahinez/Documents/hands-on-2021/GTSR...  \n",
       "...                                                  ...  \n",
       "12625  C:/Users/chahinez/Documents/hands-on-2021/GTSR...  \n",
       "12626  C:/Users/chahinez/Documents/hands-on-2021/GTSR...  \n",
       "12627  C:/Users/chahinez/Documents/hands-on-2021/GTSR...  \n",
       "12628  C:/Users/chahinez/Documents/hands-on-2021/GTSR...  \n",
       "12629  C:/Users/chahinez/Documents/hands-on-2021/GTSR...  \n",
       "\n",
       "[12630 rows x 9 columns]"
      ]
     },
     "execution_count": 82,
     "metadata": {},
     "output_type": "execute_result"
    }
   ],
   "source": [
    "test_images_df"
   ]
  },
  {
   "cell_type": "code",
   "execution_count": 83,
   "metadata": {},
   "outputs": [
    {
     "name": "stdout",
     "output_type": "stream",
     "text": [
      "(12630, 30, 30, 3) (12630,)\n"
     ]
    }
   ],
   "source": [
    "print(test_data.shape, test_labels.shape)"
   ]
  },
  {
   "cell_type": "code",
   "execution_count": 84,
   "metadata": {},
   "outputs": [
    {
     "name": "stdout",
     "output_type": "stream",
     "text": [
      "Wall time: 13.6 s\n"
     ]
    }
   ],
   "source": [
    "%%time\n",
    "results = test_model.predict_classes(test_data)# Passapage predict classe , premier 16 , 1 38"
   ]
  },
  {
   "cell_type": "code",
   "execution_count": 85,
   "metadata": {},
   "outputs": [
    {
     "data": {
      "text/plain": [
       "array([16,  1, 38], dtype=int64)"
      ]
     },
     "execution_count": 85,
     "metadata": {},
     "output_type": "execute_result"
    }
   ],
   "source": [
    "test_labels[:3] # On vérifie il s'est pas trompé"
   ]
  },
  {
   "cell_type": "code",
   "execution_count": 86,
   "metadata": {},
   "outputs": [
    {
     "data": {
      "text/plain": [
       "0.9615993665874901"
      ]
     },
     "execution_count": 86,
     "metadata": {},
     "output_type": "execute_result"
    }
   ],
   "source": [
    "(test_labels == results).sum()/ test_labels.shape[0]"
   ]
  },
  {
   "cell_type": "markdown",
   "metadata": {},
   "source": [
    "### Compare actual to predicted (class-level)"
   ]
  },
  {
   "cell_type": "code",
   "execution_count": 87,
   "metadata": {},
   "outputs": [],
   "source": [
    "accuracy_df = pd.DataFrame()\n",
    "accuracy_df['actual'] = test_labels\n",
    "accuracy_df['predicted'] = results"
   ]
  },
  {
   "cell_type": "code",
   "execution_count": 88,
   "metadata": {},
   "outputs": [
    {
     "data": {
      "text/html": [
       "<div>\n",
       "<style scoped>\n",
       "    .dataframe tbody tr th:only-of-type {\n",
       "        vertical-align: middle;\n",
       "    }\n",
       "\n",
       "    .dataframe tbody tr th {\n",
       "        vertical-align: top;\n",
       "    }\n",
       "\n",
       "    .dataframe thead th {\n",
       "        text-align: right;\n",
       "    }\n",
       "</style>\n",
       "<table border=\"1\" class=\"dataframe\">\n",
       "  <thead>\n",
       "    <tr style=\"text-align: right;\">\n",
       "      <th></th>\n",
       "      <th>actual</th>\n",
       "      <th>predicted</th>\n",
       "    </tr>\n",
       "  </thead>\n",
       "  <tbody>\n",
       "    <tr>\n",
       "      <th>0</th>\n",
       "      <td>16</td>\n",
       "      <td>16</td>\n",
       "    </tr>\n",
       "    <tr>\n",
       "      <th>1</th>\n",
       "      <td>1</td>\n",
       "      <td>1</td>\n",
       "    </tr>\n",
       "    <tr>\n",
       "      <th>2</th>\n",
       "      <td>38</td>\n",
       "      <td>38</td>\n",
       "    </tr>\n",
       "    <tr>\n",
       "      <th>3</th>\n",
       "      <td>33</td>\n",
       "      <td>33</td>\n",
       "    </tr>\n",
       "    <tr>\n",
       "      <th>4</th>\n",
       "      <td>11</td>\n",
       "      <td>11</td>\n",
       "    </tr>\n",
       "  </tbody>\n",
       "</table>\n",
       "</div>"
      ],
      "text/plain": [
       "   actual  predicted\n",
       "0      16         16\n",
       "1       1          1\n",
       "2      38         38\n",
       "3      33         33\n",
       "4      11         11"
      ]
     },
     "execution_count": 88,
     "metadata": {},
     "output_type": "execute_result"
    }
   ],
   "source": [
    "accuracy_df.head()"
   ]
  },
  {
   "cell_type": "code",
   "execution_count": 89,
   "metadata": {},
   "outputs": [
    {
     "data": {
      "image/png": "[encoded data removed]",
      "text/plain": [
       "<Figure size 864x720 with 2 Axes>"
      ]
     },
     "metadata": {
      "needs_background": "light"
     },
     "output_type": "display_data"
    }
   ],
   "source": [
    "import seaborn as sns\n",
    "\n",
    "fig, ax = plt.subplots(figsize=(12, 10))\n",
    "sns.heatmap(pd.crosstab(accuracy_df['actual'], accuracy_df['predicted'], normalize='index'),\n",
    "            cmap='vlag',\n",
    "            ax=ax);\n",
    "# on croise les classes actuelles(0 à 42)avec classes predicted,  plus c'est clair plus ca correspond\n",
    "# On veut la plus belle diagonale possible\n",
    "# Version graphique d'une table de confusion\n",
    "#Ici valeur absolu alors que on veut poucentage"
   ]
  },
  {
   "cell_type": "code",
   "execution_count": 30,
   "metadata": {},
   "outputs": [],
   "source": [
    "# pd.crosstab(accuracy_df['actual'], accuracy_df['predicted'])\n",
    "#pd.crosstab(accuracy_df['predicted'], accuracy_df['actual'], normalize = 'index')"
   ]
  },
  {
   "cell_type": "code",
   "execution_count": null,
   "metadata": {},
   "outputs": [],
   "source": []
  },
  {
   "cell_type": "markdown",
   "metadata": {},
   "source": [
    "### Predict probabilities and plot"
   ]
  },
  {
   "cell_type": "code",
   "execution_count": 90,
   "metadata": {},
   "outputs": [],
   "source": [
    "class_names = ['Speed limit (20km/h)', 'Speed limit (30km/h)', 'Speed limit (50km/h)', 'Speed limit (60km/h)',\n",
    "               'Speed limit (70km/h)','Speed limit (80km/h)','End of speed limit (80km/h)','Speed limit (100km/h)',\n",
    "               'Speed limit (120km/h)','No passing','No passing veh over 3.5 tons','Right-of-way at intersection',\n",
    "               'Priority road','Yield','Stop','No vehicles',\n",
    "               'Veh > 3.5 tons prohibited','No entry','General caution','Dangerous curve left',\n",
    "               'Dangerous curve right','Double curve','Bumpy road','Slippery road',\n",
    "               'Road narrows on the right','Road work','Traffic signals','Pedestrians',\n",
    "               'Children crossing','Bicycles crossing','Beware of ice/snow','Wild animals crossing',\n",
    "               'End speed + passing limits','Turn right ahead','Turn left ahead','Ahead only',\n",
    "               'Go straight or right','Go straight or left','Keep right','Keep left',\n",
    "               'Roundabout mandatory', 'End of no passing', 'End no passing veh > 3.5 tons']"
   ]
  },
  {
   "cell_type": "code",
   "execution_count": 91,
   "metadata": {},
   "outputs": [],
   "source": [
    "# New classifier for classes probability"
   ]
  },
  {
   "cell_type": "code",
   "execution_count": 93,
   "metadata": {},
   "outputs": [],
   "source": [
    "def classify_image(path, model,image_box=None):\n",
    "  \"\"\" Classify image by model\n",
    "\n",
    "  Parameters\n",
    "  ----------\n",
    "  path : filepath to image\n",
    "  model : tf/keras classifier\n",
    "\n",
    "  Returns\n",
    "  -------\n",
    "  class id returned by model classifier\n",
    "  \"\"\"\n",
    "  images_list = []\n",
    "  image = Image.open(path)\n",
    "  image = image.resize((IMAGE_WIDTH, IMAGE_HEIGHT), box=image_box) # box argument clips image to (x1, y1, x2, y2)\n",
    "  image = np.array(image)\n",
    "  images_list.append(image)\n",
    "\n",
    "  return model.predict(np.array(images_list))"
   ]
  },
  {
   "cell_type": "code",
   "execution_count": 94,
   "metadata": {},
   "outputs": [],
   "source": [
    "test_image_sample = test_images_df.sample(1)\n",
    "\n",
    "#classify_image(test_image_sample['path'].values[0],\n",
    "               #test_model,\n",
    "               #test_image_sample.apply(lambda r: (r['Roi.X1'], r['Roi.Y1'], r['Roi.X2'], r['Roi.Y2']),\n",
    "                                  #axis=1).values[0]\n",
    "               #)"
   ]
  },
  {
   "cell_type": "code",
   "execution_count": 95,
   "metadata": {},
   "outputs": [],
   "source": [
    "def plot_image( path, model,test_labels):\n",
    "  predictions1= classify_image(test_image_sample['path'].values[0],\n",
    "               model,\n",
    "               test_image_sample.apply(lambda r: (r['Roi.X1'], r['Roi.Y1'], r['Roi.X2'], r['Roi.Y2']),\n",
    "                                  axis=1).values[0]\n",
    "               )\n",
    "  true_label = test_labels[test_image_sample.index.values][0] #, img = true_label[i], img[i]\n",
    "  plt.grid(False)\n",
    "  plt.xticks([])\n",
    "  plt.yticks([])\n",
    "\n",
    "  plt.imshow(Image.open(test_image_sample['path'].values[0]), cmap=plt.cm.binary)\n",
    "\n",
    "  predicted_label = np.argmax(predictions1)\n",
    "  if predicted_label == true_label:\n",
    "    color = 'blue'\n",
    "  else:\n",
    "    color = 'red'\n",
    "  print(\"La veritable classe du panneau est : \"+ class_names[true_label] + \" qui correspond à la classe {}. \".format(true_label))\n",
    "  print(\"Avec une confiance de {} %, \".format(100*np.max(predictions1)))\n",
    "  print(\"le modèle estime que le panneau informe que : \"+ class_names[predicted_label] + \". Ce panneau appartient à la classe {} . \".format(np.argmax(predictions1)))\n",
    "\n",
    "\n",
    "\n",
    "def plot_value_array(path, model,test_labels):\n",
    "  predictions1= classify_image(test_image_sample['path'].values[0],\n",
    "               model,\n",
    "               test_image_sample.apply(lambda r: (r['Roi.X1'], r['Roi.Y1'], r['Roi.X2'], r['Roi.Y2']),\n",
    "                                  axis=1).values[0]\n",
    "               )\n",
    "  predictions1= predictions1.flatten()\n",
    "  true_label = test_labels[test_image_sample.index.values][0] \n",
    "\n",
    "  #figure(figsize=(20, 6), dpi=80)\n",
    "  plt.grid(False)\n",
    "  plt.xticks(range(43))\n",
    "  plt.yticks([])\n",
    "  thisplot = plt.bar(range(43), predictions1, color=\"#777777\")\n",
    "  plt.ylim([0, 1])\n",
    "  predicted_label = np.argmax(predictions1)\n",
    "\n",
    "  thisplot[predicted_label].set_color('red')\n",
    "  thisplot[true_label].set_color('blue')"
   ]
  },
  {
   "cell_type": "code",
   "execution_count": 96,
   "metadata": {},
   "outputs": [
    {
     "name": "stdout",
     "output_type": "stream",
     "text": [
      "La veritable classe du panneau est : General caution qui correspond à la classe 18. \n",
      "Avec une confiance de 85.80834865570068 %, \n",
      "le modèle estime que le panneau informe que : General caution. Ce panneau appartient à la classe 18 . \n"
     ]
    },
    {
     "data": {
      "image/png": "[encoded data removed]",
      "text/plain": [
       "<Figure size 3200x480 with 2 Axes>"
      ]
     },
     "metadata": {
      "needs_background": "light"
     },
     "output_type": "display_data"
    }
   ],
   "source": [
    "figure(figsize=(40, 6), dpi=80)\n",
    "plt.subplot(1,2,1)\n",
    "plot_image(test_image_sample['path'].values[0],test_model, test_labels)\n",
    "plt.subplot(1,2,2)\n",
    "plot_value_array(test_image_sample['path'].values[0],test_model, test_labels)\n",
    "plt.show()\n"
   ]
  },
  {
   "cell_type": "code",
   "execution_count": null,
   "metadata": {},
   "outputs": [],
   "source": []
  },
  {
   "cell_type": "markdown",
   "metadata": {},
   "source": [
    "###  Constrution dataframe de confiance"
   ]
  },
  {
   "cell_type": "code",
   "execution_count": null,
   "metadata": {},
   "outputs": [],
   "source": []
  },
  {
   "cell_type": "code",
   "execution_count": null,
   "metadata": {},
   "outputs": [],
   "source": []
  },
  {
   "cell_type": "code",
   "execution_count": 97,
   "metadata": {},
   "outputs": [],
   "source": [
    "\n",
    "#marchheeeee = test_images_df.loc[[1]]"
   ]
  },
  {
   "cell_type": "code",
   "execution_count": null,
   "metadata": {},
   "outputs": [],
   "source": [
    "loooop = []\n",
    "for i, row in test_images_df.iterrows():\n",
    "    loooop.append(classify_image(test_images_df.loc[[i]]['path'].values[0],\n",
    "                                  test_model,\n",
    "                                  test_images_df.loc[[i]].apply(lambda r: (r['Roi.X1'], r['Roi.Y1'], r['Roi.X2'], r['Roi.Y2']),\n",
    "                                                                axis=1).values[0]\n",
    "                                 )\n",
    "                  )\n",
    "        \n"
   ]
  },
  {
   "cell_type": "code",
   "execution_count": 48,
   "metadata": {},
   "outputs": [],
   "source": [
    "arr = np.array(loooop)"
   ]
  },
  {
   "cell_type": "code",
   "execution_count": 49,
   "metadata": {},
   "outputs": [
    {
     "data": {
      "text/plain": [
       "array([[[7.05507560e-29, 4.67384228e-21, 4.70601777e-25, ...,\n",
       "         1.10052584e-28, 9.02950874e-20, 5.93463905e-25]],\n",
       "\n",
       "       [[0.00000000e+00, 1.00000000e+00, 4.05090903e-37, ...,\n",
       "         0.00000000e+00, 0.00000000e+00, 0.00000000e+00]],\n",
       "\n",
       "       [[0.00000000e+00, 3.31123441e-26, 3.01594235e-30, ...,\n",
       "         1.33670540e-28, 1.48945008e-30, 8.62907559e-35]],\n",
       "\n",
       "       ...,\n",
       "\n",
       "       [[4.83037525e-07, 7.58203352e-03, 1.48533261e-04, ...,\n",
       "         7.41628980e-07, 4.73588618e-04, 4.07788262e-04]],\n",
       "\n",
       "       [[4.37395363e-15, 1.14471055e-08, 3.84300369e-10, ...,\n",
       "         8.76283313e-09, 3.75707075e-16, 1.10169174e-11]],\n",
       "\n",
       "       [[5.80249321e-11, 8.06240124e-08, 1.00678676e-07, ...,\n",
       "         1.35827714e-08, 8.56522579e-12, 5.08721865e-09]]], dtype=float32)"
      ]
     },
     "execution_count": 49,
     "metadata": {},
     "output_type": "execute_result"
    }
   ],
   "source": [
    "arr"
   ]
  },
  {
   "cell_type": "code",
   "execution_count": 50,
   "metadata": {},
   "outputs": [
    {
     "data": {
      "text/plain": [
       "array([7.0550756e-29, 4.6738423e-21, 4.7060178e-25, ..., 1.3582771e-08,\n",
       "       8.5652258e-12, 5.0872186e-09], dtype=float32)"
      ]
     },
     "execution_count": 50,
     "metadata": {},
     "output_type": "execute_result"
    }
   ],
   "source": [
    "arrf= arr.flatten()\n",
    "arrf"
   ]
  },
  {
   "cell_type": "code",
   "execution_count": 51,
   "metadata": {},
   "outputs": [
    {
     "data": {
      "text/html": [
       "<div>\n",
       "<style scoped>\n",
       "    .dataframe tbody tr th:only-of-type {\n",
       "        vertical-align: middle;\n",
       "    }\n",
       "\n",
       "    .dataframe tbody tr th {\n",
       "        vertical-align: top;\n",
       "    }\n",
       "\n",
       "    .dataframe thead th {\n",
       "        text-align: right;\n",
       "    }\n",
       "</style>\n",
       "<table border=\"1\" class=\"dataframe\">\n",
       "  <thead>\n",
       "    <tr style=\"text-align: right;\">\n",
       "      <th></th>\n",
       "      <th>0</th>\n",
       "    </tr>\n",
       "  </thead>\n",
       "  <tbody>\n",
       "    <tr>\n",
       "      <th>0</th>\n",
       "      <td>7.055076e-29</td>\n",
       "    </tr>\n",
       "    <tr>\n",
       "      <th>1</th>\n",
       "      <td>4.673842e-21</td>\n",
       "    </tr>\n",
       "    <tr>\n",
       "      <th>2</th>\n",
       "      <td>4.706018e-25</td>\n",
       "    </tr>\n",
       "    <tr>\n",
       "      <th>3</th>\n",
       "      <td>1.188867e-22</td>\n",
       "    </tr>\n",
       "    <tr>\n",
       "      <th>4</th>\n",
       "      <td>1.677405e-26</td>\n",
       "    </tr>\n",
       "    <tr>\n",
       "      <th>...</th>\n",
       "      <td>...</td>\n",
       "    </tr>\n",
       "    <tr>\n",
       "      <th>543085</th>\n",
       "      <td>1.502223e-08</td>\n",
       "    </tr>\n",
       "    <tr>\n",
       "      <th>543086</th>\n",
       "      <td>3.484087e-10</td>\n",
       "    </tr>\n",
       "    <tr>\n",
       "      <th>543087</th>\n",
       "      <td>1.358277e-08</td>\n",
       "    </tr>\n",
       "    <tr>\n",
       "      <th>543088</th>\n",
       "      <td>8.565226e-12</td>\n",
       "    </tr>\n",
       "    <tr>\n",
       "      <th>543089</th>\n",
       "      <td>5.087219e-09</td>\n",
       "    </tr>\n",
       "  </tbody>\n",
       "</table>\n",
       "<p>543090 rows × 1 columns</p>\n",
       "</div>"
      ],
      "text/plain": [
       "                   0\n",
       "0       7.055076e-29\n",
       "1       4.673842e-21\n",
       "2       4.706018e-25\n",
       "3       1.188867e-22\n",
       "4       1.677405e-26\n",
       "...              ...\n",
       "543085  1.502223e-08\n",
       "543086  3.484087e-10\n",
       "543087  1.358277e-08\n",
       "543088  8.565226e-12\n",
       "543089  5.087219e-09\n",
       "\n",
       "[543090 rows x 1 columns]"
      ]
     },
     "execution_count": 51,
     "metadata": {},
     "output_type": "execute_result"
    }
   ],
   "source": [
    "cdf= pd.DataFrame(arrf) \n",
    "cdf"
   ]
  },
  {
   "cell_type": "code",
   "execution_count": 52,
   "metadata": {},
   "outputs": [
    {
     "data": {
      "text/html": [
       "<div>\n",
       "<style scoped>\n",
       "    .dataframe tbody tr th:only-of-type {\n",
       "        vertical-align: middle;\n",
       "    }\n",
       "\n",
       "    .dataframe tbody tr th {\n",
       "        vertical-align: top;\n",
       "    }\n",
       "\n",
       "    .dataframe thead th {\n",
       "        text-align: right;\n",
       "    }\n",
       "</style>\n",
       "<table border=\"1\" class=\"dataframe\">\n",
       "  <thead>\n",
       "    <tr style=\"text-align: right;\">\n",
       "      <th></th>\n",
       "      <th>0</th>\n",
       "    </tr>\n",
       "  </thead>\n",
       "  <tbody>\n",
       "    <tr>\n",
       "      <th>0</th>\n",
       "      <td>0</td>\n",
       "    </tr>\n",
       "    <tr>\n",
       "      <th>1</th>\n",
       "      <td>1</td>\n",
       "    </tr>\n",
       "    <tr>\n",
       "      <th>2</th>\n",
       "      <td>2</td>\n",
       "    </tr>\n",
       "    <tr>\n",
       "      <th>3</th>\n",
       "      <td>3</td>\n",
       "    </tr>\n",
       "    <tr>\n",
       "      <th>4</th>\n",
       "      <td>4</td>\n",
       "    </tr>\n",
       "    <tr>\n",
       "      <th>...</th>\n",
       "      <td>...</td>\n",
       "    </tr>\n",
       "    <tr>\n",
       "      <th>543085</th>\n",
       "      <td>38</td>\n",
       "    </tr>\n",
       "    <tr>\n",
       "      <th>543086</th>\n",
       "      <td>39</td>\n",
       "    </tr>\n",
       "    <tr>\n",
       "      <th>543087</th>\n",
       "      <td>40</td>\n",
       "    </tr>\n",
       "    <tr>\n",
       "      <th>543088</th>\n",
       "      <td>41</td>\n",
       "    </tr>\n",
       "    <tr>\n",
       "      <th>543089</th>\n",
       "      <td>42</td>\n",
       "    </tr>\n",
       "  </tbody>\n",
       "</table>\n",
       "<p>543090 rows × 1 columns</p>\n",
       "</div>"
      ],
      "text/plain": [
       "         0\n",
       "0        0\n",
       "1        1\n",
       "2        2\n",
       "3        3\n",
       "4        4\n",
       "...     ..\n",
       "543085  38\n",
       "543086  39\n",
       "543087  40\n",
       "543088  41\n",
       "543089  42\n",
       "\n",
       "[543090 rows x 1 columns]"
      ]
     },
     "execution_count": 52,
     "metadata": {},
     "output_type": "execute_result"
    }
   ],
   "source": [
    "countt = pd.DataFrame(12630*list(range(0,43)))\n",
    "countt"
   ]
  },
  {
   "cell_type": "code",
   "execution_count": 53,
   "metadata": {},
   "outputs": [],
   "source": [
    "jcd= pd.DataFrame(np.repeat(list(range(0,12630)),43))   "
   ]
  },
  {
   "cell_type": "code",
   "execution_count": 54,
   "metadata": {},
   "outputs": [
    {
     "data": {
      "text/html": [
       "<div>\n",
       "<style scoped>\n",
       "    .dataframe tbody tr th:only-of-type {\n",
       "        vertical-align: middle;\n",
       "    }\n",
       "\n",
       "    .dataframe tbody tr th {\n",
       "        vertical-align: top;\n",
       "    }\n",
       "\n",
       "    .dataframe thead th {\n",
       "        text-align: right;\n",
       "    }\n",
       "</style>\n",
       "<table border=\"1\" class=\"dataframe\">\n",
       "  <thead>\n",
       "    <tr style=\"text-align: right;\">\n",
       "      <th></th>\n",
       "      <th>0</th>\n",
       "    </tr>\n",
       "  </thead>\n",
       "  <tbody>\n",
       "    <tr>\n",
       "      <th>0</th>\n",
       "      <td>0</td>\n",
       "    </tr>\n",
       "    <tr>\n",
       "      <th>1</th>\n",
       "      <td>0</td>\n",
       "    </tr>\n",
       "    <tr>\n",
       "      <th>2</th>\n",
       "      <td>0</td>\n",
       "    </tr>\n",
       "    <tr>\n",
       "      <th>3</th>\n",
       "      <td>0</td>\n",
       "    </tr>\n",
       "    <tr>\n",
       "      <th>4</th>\n",
       "      <td>0</td>\n",
       "    </tr>\n",
       "    <tr>\n",
       "      <th>...</th>\n",
       "      <td>...</td>\n",
       "    </tr>\n",
       "    <tr>\n",
       "      <th>543085</th>\n",
       "      <td>12629</td>\n",
       "    </tr>\n",
       "    <tr>\n",
       "      <th>543086</th>\n",
       "      <td>12629</td>\n",
       "    </tr>\n",
       "    <tr>\n",
       "      <th>543087</th>\n",
       "      <td>12629</td>\n",
       "    </tr>\n",
       "    <tr>\n",
       "      <th>543088</th>\n",
       "      <td>12629</td>\n",
       "    </tr>\n",
       "    <tr>\n",
       "      <th>543089</th>\n",
       "      <td>12629</td>\n",
       "    </tr>\n",
       "  </tbody>\n",
       "</table>\n",
       "<p>543090 rows × 1 columns</p>\n",
       "</div>"
      ],
      "text/plain": [
       "            0\n",
       "0           0\n",
       "1           0\n",
       "2           0\n",
       "3           0\n",
       "4           0\n",
       "...       ...\n",
       "543085  12629\n",
       "543086  12629\n",
       "543087  12629\n",
       "543088  12629\n",
       "543089  12629\n",
       "\n",
       "[543090 rows x 1 columns]"
      ]
     },
     "execution_count": 54,
     "metadata": {},
     "output_type": "execute_result"
    }
   ],
   "source": [
    "jcd"
   ]
  },
  {
   "cell_type": "code",
   "execution_count": 55,
   "metadata": {},
   "outputs": [],
   "source": [
    "maybe= pd.merge(cdf, countt, left_index=True, right_index=True)"
   ]
  },
  {
   "cell_type": "code",
   "execution_count": 56,
   "metadata": {},
   "outputs": [],
   "source": [
    "maybe= pd.merge(maybe, jcd, left_index=True, right_index=True)"
   ]
  },
  {
   "cell_type": "code",
   "execution_count": 57,
   "metadata": {},
   "outputs": [
    {
     "data": {
      "text/html": [
       "<div>\n",
       "<style scoped>\n",
       "    .dataframe tbody tr th:only-of-type {\n",
       "        vertical-align: middle;\n",
       "    }\n",
       "\n",
       "    .dataframe tbody tr th {\n",
       "        vertical-align: top;\n",
       "    }\n",
       "\n",
       "    .dataframe thead th {\n",
       "        text-align: right;\n",
       "    }\n",
       "</style>\n",
       "<table border=\"1\" class=\"dataframe\">\n",
       "  <thead>\n",
       "    <tr style=\"text-align: right;\">\n",
       "      <th></th>\n",
       "      <th>0_x</th>\n",
       "      <th>0_y</th>\n",
       "      <th>0</th>\n",
       "    </tr>\n",
       "  </thead>\n",
       "  <tbody>\n",
       "    <tr>\n",
       "      <th>0</th>\n",
       "      <td>7.055076e-29</td>\n",
       "      <td>0</td>\n",
       "      <td>0</td>\n",
       "    </tr>\n",
       "    <tr>\n",
       "      <th>1</th>\n",
       "      <td>4.673842e-21</td>\n",
       "      <td>1</td>\n",
       "      <td>0</td>\n",
       "    </tr>\n",
       "    <tr>\n",
       "      <th>2</th>\n",
       "      <td>4.706018e-25</td>\n",
       "      <td>2</td>\n",
       "      <td>0</td>\n",
       "    </tr>\n",
       "    <tr>\n",
       "      <th>3</th>\n",
       "      <td>1.188867e-22</td>\n",
       "      <td>3</td>\n",
       "      <td>0</td>\n",
       "    </tr>\n",
       "    <tr>\n",
       "      <th>4</th>\n",
       "      <td>1.677405e-26</td>\n",
       "      <td>4</td>\n",
       "      <td>0</td>\n",
       "    </tr>\n",
       "    <tr>\n",
       "      <th>...</th>\n",
       "      <td>...</td>\n",
       "      <td>...</td>\n",
       "      <td>...</td>\n",
       "    </tr>\n",
       "    <tr>\n",
       "      <th>543085</th>\n",
       "      <td>1.502223e-08</td>\n",
       "      <td>38</td>\n",
       "      <td>12629</td>\n",
       "    </tr>\n",
       "    <tr>\n",
       "      <th>543086</th>\n",
       "      <td>3.484087e-10</td>\n",
       "      <td>39</td>\n",
       "      <td>12629</td>\n",
       "    </tr>\n",
       "    <tr>\n",
       "      <th>543087</th>\n",
       "      <td>1.358277e-08</td>\n",
       "      <td>40</td>\n",
       "      <td>12629</td>\n",
       "    </tr>\n",
       "    <tr>\n",
       "      <th>543088</th>\n",
       "      <td>8.565226e-12</td>\n",
       "      <td>41</td>\n",
       "      <td>12629</td>\n",
       "    </tr>\n",
       "    <tr>\n",
       "      <th>543089</th>\n",
       "      <td>5.087219e-09</td>\n",
       "      <td>42</td>\n",
       "      <td>12629</td>\n",
       "    </tr>\n",
       "  </tbody>\n",
       "</table>\n",
       "<p>543090 rows × 3 columns</p>\n",
       "</div>"
      ],
      "text/plain": [
       "                 0_x  0_y      0\n",
       "0       7.055076e-29    0      0\n",
       "1       4.673842e-21    1      0\n",
       "2       4.706018e-25    2      0\n",
       "3       1.188867e-22    3      0\n",
       "4       1.677405e-26    4      0\n",
       "...              ...  ...    ...\n",
       "543085  1.502223e-08   38  12629\n",
       "543086  3.484087e-10   39  12629\n",
       "543087  1.358277e-08   40  12629\n",
       "543088  8.565226e-12   41  12629\n",
       "543089  5.087219e-09   42  12629\n",
       "\n",
       "[543090 rows x 3 columns]"
      ]
     },
     "execution_count": 57,
     "metadata": {},
     "output_type": "execute_result"
    }
   ],
   "source": [
    "maybe"
   ]
  },
  {
   "cell_type": "code",
   "execution_count": null,
   "metadata": {},
   "outputs": [],
   "source": []
  },
  {
   "cell_type": "code",
   "execution_count": 58,
   "metadata": {},
   "outputs": [],
   "source": [
    "maybe.rename(columns={'0_x':'confiance','0_y':'classe',0:'nbimage'}, inplace=True)"
   ]
  },
  {
   "cell_type": "code",
   "execution_count": 59,
   "metadata": {},
   "outputs": [
    {
     "data": {
      "text/html": [
       "<div>\n",
       "<style scoped>\n",
       "    .dataframe tbody tr th:only-of-type {\n",
       "        vertical-align: middle;\n",
       "    }\n",
       "\n",
       "    .dataframe tbody tr th {\n",
       "        vertical-align: top;\n",
       "    }\n",
       "\n",
       "    .dataframe thead th {\n",
       "        text-align: right;\n",
       "    }\n",
       "</style>\n",
       "<table border=\"1\" class=\"dataframe\">\n",
       "  <thead>\n",
       "    <tr style=\"text-align: right;\">\n",
       "      <th></th>\n",
       "      <th>confiance</th>\n",
       "      <th>classe</th>\n",
       "      <th>nbimage</th>\n",
       "    </tr>\n",
       "  </thead>\n",
       "  <tbody>\n",
       "    <tr>\n",
       "      <th>0</th>\n",
       "      <td>7.055076e-29</td>\n",
       "      <td>0</td>\n",
       "      <td>0</td>\n",
       "    </tr>\n",
       "    <tr>\n",
       "      <th>1</th>\n",
       "      <td>4.673842e-21</td>\n",
       "      <td>1</td>\n",
       "      <td>0</td>\n",
       "    </tr>\n",
       "    <tr>\n",
       "      <th>2</th>\n",
       "      <td>4.706018e-25</td>\n",
       "      <td>2</td>\n",
       "      <td>0</td>\n",
       "    </tr>\n",
       "    <tr>\n",
       "      <th>3</th>\n",
       "      <td>1.188867e-22</td>\n",
       "      <td>3</td>\n",
       "      <td>0</td>\n",
       "    </tr>\n",
       "    <tr>\n",
       "      <th>4</th>\n",
       "      <td>1.677405e-26</td>\n",
       "      <td>4</td>\n",
       "      <td>0</td>\n",
       "    </tr>\n",
       "    <tr>\n",
       "      <th>...</th>\n",
       "      <td>...</td>\n",
       "      <td>...</td>\n",
       "      <td>...</td>\n",
       "    </tr>\n",
       "    <tr>\n",
       "      <th>543085</th>\n",
       "      <td>1.502223e-08</td>\n",
       "      <td>38</td>\n",
       "      <td>12629</td>\n",
       "    </tr>\n",
       "    <tr>\n",
       "      <th>543086</th>\n",
       "      <td>3.484087e-10</td>\n",
       "      <td>39</td>\n",
       "      <td>12629</td>\n",
       "    </tr>\n",
       "    <tr>\n",
       "      <th>543087</th>\n",
       "      <td>1.358277e-08</td>\n",
       "      <td>40</td>\n",
       "      <td>12629</td>\n",
       "    </tr>\n",
       "    <tr>\n",
       "      <th>543088</th>\n",
       "      <td>8.565226e-12</td>\n",
       "      <td>41</td>\n",
       "      <td>12629</td>\n",
       "    </tr>\n",
       "    <tr>\n",
       "      <th>543089</th>\n",
       "      <td>5.087219e-09</td>\n",
       "      <td>42</td>\n",
       "      <td>12629</td>\n",
       "    </tr>\n",
       "  </tbody>\n",
       "</table>\n",
       "<p>543090 rows × 3 columns</p>\n",
       "</div>"
      ],
      "text/plain": [
       "           confiance  classe  nbimage\n",
       "0       7.055076e-29       0        0\n",
       "1       4.673842e-21       1        0\n",
       "2       4.706018e-25       2        0\n",
       "3       1.188867e-22       3        0\n",
       "4       1.677405e-26       4        0\n",
       "...              ...     ...      ...\n",
       "543085  1.502223e-08      38    12629\n",
       "543086  3.484087e-10      39    12629\n",
       "543087  1.358277e-08      40    12629\n",
       "543088  8.565226e-12      41    12629\n",
       "543089  5.087219e-09      42    12629\n",
       "\n",
       "[543090 rows x 3 columns]"
      ]
     },
     "execution_count": 59,
     "metadata": {},
     "output_type": "execute_result"
    }
   ],
   "source": [
    "maybe"
   ]
  },
  {
   "cell_type": "code",
   "execution_count": 62,
   "metadata": {},
   "outputs": [],
   "source": [
    "maybe.to_csv(r'C:/Users/chahinez/Documents/hands-on-2021/app/Imagedata.csv')"
   ]
  },
  {
   "cell_type": "code",
   "execution_count": 63,
   "metadata": {},
   "outputs": [],
   "source": [
    "dfg = pd.read_csv('C:/Users/chahinez/Documents/hands-on-2021/app/Imagedata.csv')"
   ]
  },
  {
   "cell_type": "code",
   "execution_count": 64,
   "metadata": {},
   "outputs": [
    {
     "data": {
      "text/html": [
       "<div>\n",
       "<style scoped>\n",
       "    .dataframe tbody tr th:only-of-type {\n",
       "        vertical-align: middle;\n",
       "    }\n",
       "\n",
       "    .dataframe tbody tr th {\n",
       "        vertical-align: top;\n",
       "    }\n",
       "\n",
       "    .dataframe thead th {\n",
       "        text-align: right;\n",
       "    }\n",
       "</style>\n",
       "<table border=\"1\" class=\"dataframe\">\n",
       "  <thead>\n",
       "    <tr style=\"text-align: right;\">\n",
       "      <th></th>\n",
       "      <th>Unnamed: 0</th>\n",
       "      <th>confiance</th>\n",
       "      <th>classe</th>\n",
       "      <th>nbimage</th>\n",
       "    </tr>\n",
       "  </thead>\n",
       "  <tbody>\n",
       "    <tr>\n",
       "      <th>0</th>\n",
       "      <td>0</td>\n",
       "      <td>7.055076e-29</td>\n",
       "      <td>0</td>\n",
       "      <td>0</td>\n",
       "    </tr>\n",
       "    <tr>\n",
       "      <th>1</th>\n",
       "      <td>1</td>\n",
       "      <td>4.673842e-21</td>\n",
       "      <td>1</td>\n",
       "      <td>0</td>\n",
       "    </tr>\n",
       "    <tr>\n",
       "      <th>2</th>\n",
       "      <td>2</td>\n",
       "      <td>4.706018e-25</td>\n",
       "      <td>2</td>\n",
       "      <td>0</td>\n",
       "    </tr>\n",
       "    <tr>\n",
       "      <th>3</th>\n",
       "      <td>3</td>\n",
       "      <td>1.188867e-22</td>\n",
       "      <td>3</td>\n",
       "      <td>0</td>\n",
       "    </tr>\n",
       "    <tr>\n",
       "      <th>4</th>\n",
       "      <td>4</td>\n",
       "      <td>1.677406e-26</td>\n",
       "      <td>4</td>\n",
       "      <td>0</td>\n",
       "    </tr>\n",
       "    <tr>\n",
       "      <th>...</th>\n",
       "      <td>...</td>\n",
       "      <td>...</td>\n",
       "      <td>...</td>\n",
       "      <td>...</td>\n",
       "    </tr>\n",
       "    <tr>\n",
       "      <th>543085</th>\n",
       "      <td>543085</td>\n",
       "      <td>1.502223e-08</td>\n",
       "      <td>38</td>\n",
       "      <td>12629</td>\n",
       "    </tr>\n",
       "    <tr>\n",
       "      <th>543086</th>\n",
       "      <td>543086</td>\n",
       "      <td>3.484087e-10</td>\n",
       "      <td>39</td>\n",
       "      <td>12629</td>\n",
       "    </tr>\n",
       "    <tr>\n",
       "      <th>543087</th>\n",
       "      <td>543087</td>\n",
       "      <td>1.358277e-08</td>\n",
       "      <td>40</td>\n",
       "      <td>12629</td>\n",
       "    </tr>\n",
       "    <tr>\n",
       "      <th>543088</th>\n",
       "      <td>543088</td>\n",
       "      <td>8.565226e-12</td>\n",
       "      <td>41</td>\n",
       "      <td>12629</td>\n",
       "    </tr>\n",
       "    <tr>\n",
       "      <th>543089</th>\n",
       "      <td>543089</td>\n",
       "      <td>5.087219e-09</td>\n",
       "      <td>42</td>\n",
       "      <td>12629</td>\n",
       "    </tr>\n",
       "  </tbody>\n",
       "</table>\n",
       "<p>543090 rows × 4 columns</p>\n",
       "</div>"
      ],
      "text/plain": [
       "        Unnamed: 0     confiance  classe  nbimage\n",
       "0                0  7.055076e-29       0        0\n",
       "1                1  4.673842e-21       1        0\n",
       "2                2  4.706018e-25       2        0\n",
       "3                3  1.188867e-22       3        0\n",
       "4                4  1.677406e-26       4        0\n",
       "...            ...           ...     ...      ...\n",
       "543085      543085  1.502223e-08      38    12629\n",
       "543086      543086  3.484087e-10      39    12629\n",
       "543087      543087  1.358277e-08      40    12629\n",
       "543088      543088  8.565226e-12      41    12629\n",
       "543089      543089  5.087219e-09      42    12629\n",
       "\n",
       "[543090 rows x 4 columns]"
      ]
     },
     "execution_count": 64,
     "metadata": {},
     "output_type": "execute_result"
    }
   ],
   "source": [
    "dfg"
   ]
  },
  {
   "cell_type": "code",
   "execution_count": null,
   "metadata": {},
   "outputs": [],
   "source": []
  },
  {
   "cell_type": "code",
   "execution_count": null,
   "metadata": {},
   "outputs": [],
   "source": []
  },
  {
   "cell_type": "code",
   "execution_count": null,
   "metadata": {},
   "outputs": [],
   "source": []
  },
  {
   "cell_type": "code",
   "execution_count": null,
   "metadata": {},
   "outputs": [],
   "source": []
  },
  {
   "cell_type": "code",
   "execution_count": null,
   "metadata": {},
   "outputs": [],
   "source": []
  },
  {
   "cell_type": "code",
   "execution_count": null,
   "metadata": {},
   "outputs": [],
   "source": []
  },
  {
   "cell_type": "code",
   "execution_count": null,
   "metadata": {},
   "outputs": [],
   "source": []
  },
  {
   "cell_type": "code",
   "execution_count": null,
   "metadata": {},
   "outputs": [],
   "source": []
  },
  {
   "cell_type": "code",
   "execution_count": 101,
   "metadata": {},
   "outputs": [],
   "source": [
    "test_model = tf.keras.models.load_model('C:/Users/chahinez/Documents/hands-on-2021/models/traffic_signs_2021-03-28_17-45-02.h5')"
   ]
  },
  {
   "cell_type": "code",
   "execution_count": null,
   "metadata": {},
   "outputs": [],
   "source": []
  },
  {
   "cell_type": "code",
   "execution_count": 102,
   "metadata": {},
   "outputs": [
    {
     "name": "stdout",
     "output_type": "stream",
     "text": [
      "Model: \"sequential_1\"\n",
      "_________________________________________________________________\n",
      "Layer (type)                 Output Shape              Param #   \n",
      "=================================================================\n",
      "conv2d_4 (Conv2D)            (None, 26, 26, 32)        2432      \n",
      "_________________________________________________________________\n",
      "conv2d_5 (Conv2D)            (None, 22, 22, 32)        25632     \n",
      "_________________________________________________________________\n",
      "max_pooling2d_2 (MaxPooling2 (None, 11, 11, 32)        0         \n",
      "_________________________________________________________________\n",
      "dropout_3 (Dropout)          (None, 11, 11, 32)        0         \n",
      "_________________________________________________________________\n",
      "conv2d_6 (Conv2D)            (None, 9, 9, 64)          18496     \n",
      "_________________________________________________________________\n",
      "conv2d_7 (Conv2D)            (None, 7, 7, 64)          36928     \n",
      "_________________________________________________________________\n",
      "max_pooling2d_3 (MaxPooling2 (None, 3, 3, 64)          0         \n",
      "_________________________________________________________________\n",
      "dropout_4 (Dropout)          (None, 3, 3, 64)          0         \n",
      "_________________________________________________________________\n",
      "flatten_1 (Flatten)          (None, 576)               0         \n",
      "_________________________________________________________________\n",
      "dense_2 (Dense)              (None, 256)               147712    \n",
      "_________________________________________________________________\n",
      "dropout_5 (Dropout)          (None, 256)               0         \n",
      "_________________________________________________________________\n",
      "dense_3 (Dense)              (None, 43)                11051     \n",
      "=================================================================\n",
      "Total params: 242,251\n",
      "Trainable params: 242,251\n",
      "Non-trainable params: 0\n",
      "_________________________________________________________________\n"
     ]
    }
   ],
   "source": [
    "test_model.summary()"
   ]
  },
  {
   "cell_type": "code",
   "execution_count": null,
   "metadata": {},
   "outputs": [],
   "source": []
  },
  {
   "cell_type": "code",
   "execution_count": null,
   "metadata": {},
   "outputs": [],
   "source": []
  }
 ],
 "metadata": {
  "kernelspec": {
   "display_name": "traffic",
   "language": "python",
   "name": "traffic"
  },
  "language_info": {
   "codemirror_mode": {
    "name": "ipython",
    "version": 3
   },
   "file_extension": ".py",
   "mimetype": "text/x-python",
   "name": "python",
   "nbconvert_exporter": "python",
   "pygments_lexer": "ipython3",
   "version": "3.8.0"
  }
 },
 "nbformat": 4,
 "nbformat_minor": 4
}
